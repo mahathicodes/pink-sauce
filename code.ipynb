{
  "nbformat": 4,
  "nbformat_minor": 0,
  "metadata": {
    "colab": {
      "provenance": [],
      "collapsed_sections": [
        "i4yZF3uOeMtK",
        "DTyAfyZmybeS",
        "dv9GrUMN4nfB",
        "pDr21fdEVhBS",
        "S_RBy0r1LDGG",
        "cVbza2LIJzcP",
        "I7_rqJP573Go",
        "OYoVL6ZH-b33"
      ]
    },
    "kernelspec": {
      "name": "python3",
      "display_name": "Python 3"
    },
    "language_info": {
      "name": "python"
    }
  },
  "cells": [
    {
      "cell_type": "code",
      "execution_count": null,
      "metadata": {
        "id": "W4tyW3ELZRMn"
      },
      "outputs": [],
      "source": [
        "# Import necessary modules\n",
        "from google.colab import files\n",
        "import io\n",
        "import sys\n",
        "\n",
        "import numpy as np\n",
        "import pandas as pd\n",
        "\n",
        "import matplotlib.pyplot as plt\n",
        "from matplotlib.colors import ListedColormap\n",
        "\n",
        "from sklearn.datasets import make_blobs\n",
        "from sklearn.cluster import KMeans\n",
        "from sklearn.metrics import silhouette_score\n",
        "from sklearn.preprocessing import StandardScaler\n",
        "from sklearn.cluster import AgglomerativeClustering\n",
        "\n",
        "from scipy.cluster.hierarchy import dendrogram, linkage\n",
        "\n",
        "import seaborn as sns\n",
        "import nltk\n",
        "import re\n",
        "\n",
        "from sklearn.feature_extraction.text import CountVectorizer\n",
        "from sklearn.feature_extraction.text import TfidfTransformer\n",
        "from sklearn.model_selection import train_test_split\n",
        "\n",
        "from sklearn.naive_bayes import MultinomialNB\n",
        "from sklearn.metrics import accuracy_score, roc_curve\n",
        "import matplotlib.pyplot as plt\n"
      ]
    },
    {
      "cell_type": "markdown",
      "source": [
        "\n",
        "\n",
        "---\n",
        "\n"
      ],
      "metadata": {
        "id": "yqidHmE9F5J4"
      }
    },
    {
      "cell_type": "markdown",
      "source": [
        "# Part 1"
      ],
      "metadata": {
        "id": "vEpLfDXmX2vD"
      }
    },
    {
      "cell_type": "markdown",
      "source": [
        "## A."
      ],
      "metadata": {
        "id": "9RhwY1hIbL9C"
      }
    },
    {
      "cell_type": "code",
      "source": [
        "# Uploading the training dataset\n",
        "uploaded = files.upload()"
      ],
      "metadata": {
        "colab": {
          "resources": {
            "http://localhost:8080/nbextensions/google.colab/files.js": {
              "data": "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",
              "ok": true,
              "headers": [
                [
                  "content-type",
                  "application/javascript"
                ]
              ],
              "status": 200,
              "status_text": ""
            }
          },
          "base_uri": "https://localhost:8080/",
          "height": 73
        },
        "id": "MTr8aoQcYbQt",
        "outputId": "277cf3e6-60e1-427c-c36b-ef0fb92743d9"
      },
      "execution_count": null,
      "outputs": [
        {
          "output_type": "display_data",
          "data": {
            "text/plain": [
              "<IPython.core.display.HTML object>"
            ],
            "text/html": [
              "\n",
              "     <input type=\"file\" id=\"files-9164dfa7-6006-45ab-8ae0-11c91f98ab95\" name=\"files[]\" multiple disabled\n",
              "        style=\"border:none\" />\n",
              "     <output id=\"result-9164dfa7-6006-45ab-8ae0-11c91f98ab95\">\n",
              "      Upload widget is only available when the cell has been executed in the\n",
              "      current browser session. Please rerun this cell to enable.\n",
              "      </output>\n",
              "      <script src=\"/nbextensions/google.colab/files.js\"></script> "
            ]
          },
          "metadata": {}
        },
        {
          "output_type": "stream",
          "name": "stdout",
          "text": [
            "Saving covid-tweets-train.csv to covid-tweets-train (2).csv\n"
          ]
        }
      ]
    },
    {
      "cell_type": "code",
      "source": [
        "# Creating the training dataframe\n",
        "data = pd.read_csv(io.BytesIO(uploaded['covid-tweets-train.csv']), sep = ',')"
      ],
      "metadata": {
        "id": "hXqSp8G3gmAc"
      },
      "execution_count": null,
      "outputs": []
    },
    {
      "cell_type": "code",
      "source": [
        "# Uploading the testing dataset\n",
        "uploaded = files.upload()"
      ],
      "metadata": {
        "id": "5ZLepwkFgL1C",
        "colab": {
          "resources": {
            "http://localhost:8080/nbextensions/google.colab/files.js": {
              "data": "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",
              "ok": true,
              "headers": [
                [
                  "content-type",
                  "application/javascript"
                ]
              ],
              "status": 200,
              "status_text": ""
            }
          },
          "base_uri": "https://localhost:8080/",
          "height": 73
        },
        "outputId": "99e7d518-929f-4e93-b8ae-e83412d32678"
      },
      "execution_count": null,
      "outputs": [
        {
          "output_type": "display_data",
          "data": {
            "text/plain": [
              "<IPython.core.display.HTML object>"
            ],
            "text/html": [
              "\n",
              "     <input type=\"file\" id=\"files-8ef4c25c-34c9-4ad2-bf12-ec719582bb4a\" name=\"files[]\" multiple disabled\n",
              "        style=\"border:none\" />\n",
              "     <output id=\"result-8ef4c25c-34c9-4ad2-bf12-ec719582bb4a\">\n",
              "      Upload widget is only available when the cell has been executed in the\n",
              "      current browser session. Please rerun this cell to enable.\n",
              "      </output>\n",
              "      <script src=\"/nbextensions/google.colab/files.js\"></script> "
            ]
          },
          "metadata": {}
        },
        {
          "output_type": "stream",
          "name": "stdout",
          "text": [
            "Saving covid-tweets-test.csv to covid-tweets-test (2).csv\n"
          ]
        }
      ]
    },
    {
      "cell_type": "code",
      "source": [
        "# Creating the testing dataframe\n",
        "data_test = pd.read_csv(io.BytesIO(uploaded['covid-tweets-test.csv']), sep = ',')"
      ],
      "metadata": {
        "id": "J4o5n6iFZHAP"
      },
      "execution_count": null,
      "outputs": []
    },
    {
      "cell_type": "code",
      "source": [
        "# Number of observations in class 0\n",
        "select_0 = data['Sentiment'] == '0'\n",
        "data_0 = data[select_0]\n",
        "print(data_0.shape)"
      ],
      "metadata": {
        "id": "of1D5YIkZRfz",
        "colab": {
          "base_uri": "https://localhost:8080/"
        },
        "outputId": "1182af1a-3be1-406e-ab59-df16b1ed0c71"
      },
      "execution_count": null,
      "outputs": [
        {
          "output_type": "stream",
          "name": "stdout",
          "text": [
            "(15397, 3)\n"
          ]
        }
      ]
    },
    {
      "cell_type": "code",
      "source": [
        "# Number of observations in class 1\n",
        "select_1 = data['Sentiment'] == '1'\n",
        "data_1 = data[select_1]\n",
        "print(data_1.shape)"
      ],
      "metadata": {
        "id": "sNW79N4NaCjb",
        "colab": {
          "base_uri": "https://localhost:8080/"
        },
        "outputId": "463ec74f-7603-4bac-b86b-1bba55e06731"
      },
      "execution_count": null,
      "outputs": [
        {
          "output_type": "stream",
          "name": "stdout",
          "text": [
            "(7712, 3)\n"
          ]
        }
      ]
    },
    {
      "cell_type": "code",
      "source": [
        "# Number of observations in class 2\n",
        "select_2 = data['Sentiment'] == '2'\n",
        "data_2 = data[select_2]\n",
        "print(data_2.shape)"
      ],
      "metadata": {
        "id": "2PlNZpiGaIAr",
        "colab": {
          "base_uri": "https://localhost:8080/"
        },
        "outputId": "8ee3fbe8-5b15-4d50-e6fd-4b7e406d52a9"
      },
      "execution_count": null,
      "outputs": [
        {
          "output_type": "stream",
          "name": "stdout",
          "text": [
            "(18042, 3)\n"
          ]
        }
      ]
    },
    {
      "cell_type": "markdown",
      "source": [
        "Proportion of observations in each class:\n",
        "\n",
        "The proportion of observations in class 0 is 0.374.\n",
        "\n",
        "The proportion of observations in class 1 is 0.187.\n",
        "\n",
        "The proportion of observations in class 2 is 0.438.\n",
        "\n",
        "\n",
        "---\n",
        "\n"
      ],
      "metadata": {
        "id": "Sed92bHGX7gA"
      }
    },
    {
      "cell_type": "markdown",
      "source": [
        "## B."
      ],
      "metadata": {
        "id": "MWhVbZ8CeKhr"
      }
    },
    {
      "cell_type": "code",
      "source": [
        "#### Tokenizing tweets ####\n",
        "\n",
        "# Download the tokenizer\n",
        "nltk.download('punkt')\n",
        "\n",
        "def tokenize_tweets(data):\n",
        "  # Create a new column in our DF that contains token lists instead of raw text\n",
        "  data['tokens'] = data['OriginalTweet'].apply(nltk.word_tokenize)\n",
        "\n",
        "  print(data['tokens'].head(5))"
      ],
      "metadata": {
        "id": "ZBEwdZ6dcUnJ",
        "colab": {
          "base_uri": "https://localhost:8080/"
        },
        "outputId": "da14745f-bbe1-4b8f-9946-e762d23b0c40"
      },
      "execution_count": null,
      "outputs": [
        {
          "output_type": "stream",
          "name": "stderr",
          "text": [
            "[nltk_data] Downloading package punkt to /root/nltk_data...\n",
            "[nltk_data]   Package punkt is already up-to-date!\n"
          ]
        }
      ]
    },
    {
      "cell_type": "code",
      "source": [
        "# Tokenizing the training data tweets\n",
        "tokenize_tweets(data)\n",
        "# Tokenizing the testing data tweets\n",
        "tokenize_tweets(data_test)"
      ],
      "metadata": {
        "id": "BSLWLBkLDLIo",
        "colab": {
          "base_uri": "https://localhost:8080/"
        },
        "outputId": "7f8c505e-1223-4852-dcc0-73653081d7a0"
      },
      "execution_count": null,
      "outputs": [
        {
          "output_type": "stream",
          "name": "stdout",
          "text": [
            "0    [@, MeNyrbie, @, Phil_Gahan, @, Chrisitv, http...\n",
            "1    [advice, Talk, to, your, neighbours, family, t...\n",
            "2    [Coronavirus, Australia, :, Woolworths, to, gi...\n",
            "3    [My, food, stock, is, not, the, only, one, whi...\n",
            "4    [Me, ,, ready, to, go, at, supermarket, during...\n",
            "Name: tokens, dtype: object\n",
            "0    [TRENDING, :, New, Yorkers, encounter, empty, ...\n",
            "1    [When, I, could, n't, find, hand, sanitizer, a...\n",
            "2    [Find, out, how, you, can, protect, yourself, ...\n",
            "3    [#, Panic, buying, hits, #, NewYork, City, as,...\n",
            "4    [#, toiletpaper, #, dunnypaper, #, coronavirus...\n",
            "Name: tokens, dtype: object\n"
          ]
        }
      ]
    },
    {
      "cell_type": "markdown",
      "source": [
        "\n",
        "\n",
        "---\n",
        "\n"
      ],
      "metadata": {
        "id": "Yn36qdT1FXxz"
      }
    },
    {
      "cell_type": "markdown",
      "source": [
        "## C."
      ],
      "metadata": {
        "id": "i4yZF3uOeMtK"
      }
    },
    {
      "cell_type": "code",
      "source": [
        "#### Removing URL tokens from the observations ####\n",
        "\n",
        "def remove_url(data):\n",
        "  tokens_no_punct = []\n",
        "  # Create a list of lists with what we want\n",
        "  for row in data['tokens']:\n",
        "    tokens_no_punct.append([re.sub(r\"http\\S+\", '', t) for t in row])\n",
        "  # add the new info to our df\n",
        "  data['tokens_no_punct'] = tokens_no_punct\n",
        "\n",
        "  print(data['tokens_no_punct'].head(5))"
      ],
      "metadata": {
        "id": "qQxUqUj3dMFU"
      },
      "execution_count": null,
      "outputs": []
    },
    {
      "cell_type": "code",
      "source": [
        "# Removing URL tokens from training data\n",
        "remove_url(data)\n",
        "# Removing URL tokens from testing data\n",
        "remove_url(data_test)"
      ],
      "metadata": {
        "id": "aBKtQlxVD2vA",
        "colab": {
          "base_uri": "https://localhost:8080/"
        },
        "outputId": "41d961b6-9565-43cb-f875-a88c0f60b84c"
      },
      "execution_count": null,
      "outputs": [
        {
          "output_type": "stream",
          "name": "stdout",
          "text": [
            "0    [@, MeNyrbie, @, Phil_Gahan, @, Chrisitv, , :,...\n",
            "1    [advice, Talk, to, your, neighbours, family, t...\n",
            "2    [Coronavirus, Australia, :, Woolworths, to, gi...\n",
            "3    [My, food, stock, is, not, the, only, one, whi...\n",
            "4    [Me, ,, ready, to, go, at, supermarket, during...\n",
            "Name: tokens_no_punct, dtype: object\n",
            "0    [TRENDING, :, New, Yorkers, encounter, empty, ...\n",
            "1    [When, I, could, n't, find, hand, sanitizer, a...\n",
            "2    [Find, out, how, you, can, protect, yourself, ...\n",
            "3    [#, Panic, buying, hits, #, NewYork, City, as,...\n",
            "4    [#, toiletpaper, #, dunnypaper, #, coronavirus...\n",
            "Name: tokens_no_punct, dtype: object\n"
          ]
        }
      ]
    },
    {
      "cell_type": "markdown",
      "source": [
        "\n",
        "\n",
        "---\n",
        "\n"
      ],
      "metadata": {
        "id": "bKriG2uLF2HL"
      }
    },
    {
      "cell_type": "markdown",
      "source": [
        "## D."
      ],
      "metadata": {
        "id": "KaDCRhFNfDHa"
      }
    },
    {
      "cell_type": "code",
      "source": [
        "##### Convert tokens into lowercase ####\n",
        "\n",
        "def token_lower(data):\n",
        "  lowercase_tokens = []\n",
        "  # Create a list of lists with what we want\n",
        "  for row in data['tokens_no_punct']:\n",
        "    lowercase_tokens.append([t.lower() for t in row])\n",
        "  # add the new info to our df\n",
        "  data['lowercase_tokens'] = lowercase_tokens\n",
        "\n",
        "  print(data['lowercase_tokens'].head(5))"
      ],
      "metadata": {
        "id": "0Ns7dlaNec5_"
      },
      "execution_count": null,
      "outputs": []
    },
    {
      "cell_type": "code",
      "source": [
        "# Converting training data tokens into lowercase\n",
        "token_lower(data)\n",
        "# Converting testing data tokens into lowercase\n",
        "token_lower(data_test)"
      ],
      "metadata": {
        "id": "pPiaJtQTEGbB",
        "colab": {
          "base_uri": "https://localhost:8080/"
        },
        "outputId": "b1a73555-37c9-4065-c036-873a8122b6c9"
      },
      "execution_count": null,
      "outputs": [
        {
          "output_type": "stream",
          "name": "stdout",
          "text": [
            "0    [@, menyrbie, @, phil_gahan, @, chrisitv, , :,...\n",
            "1    [advice, talk, to, your, neighbours, family, t...\n",
            "2    [coronavirus, australia, :, woolworths, to, gi...\n",
            "3    [my, food, stock, is, not, the, only, one, whi...\n",
            "4    [me, ,, ready, to, go, at, supermarket, during...\n",
            "Name: lowercase_tokens, dtype: object\n",
            "0    [trending, :, new, yorkers, encounter, empty, ...\n",
            "1    [when, i, could, n't, find, hand, sanitizer, a...\n",
            "2    [find, out, how, you, can, protect, yourself, ...\n",
            "3    [#, panic, buying, hits, #, newyork, city, as,...\n",
            "4    [#, toiletpaper, #, dunnypaper, #, coronavirus...\n",
            "Name: lowercase_tokens, dtype: object\n"
          ]
        }
      ]
    },
    {
      "cell_type": "code",
      "source": [
        "##### Removing punctuation and special characters #####\n",
        "\n",
        "def remove_punct(data):\n",
        "  list(data)\n",
        "  tokens_no_punct = []\n",
        "  # Create a list of lists with what we want\n",
        "  for row in data['lowercase_tokens']:\n",
        "    tokens_no_punct.append([re.sub('[^\\w\\s]','', t) for t in row])\n",
        "  # add the new info to our df\n",
        "  data['tokens_no_punct'] = tokens_no_punct\n",
        "\n",
        "  print(data['tokens_no_punct'].head(5))"
      ],
      "metadata": {
        "id": "95G4ZPr3evRt"
      },
      "execution_count": null,
      "outputs": []
    },
    {
      "cell_type": "code",
      "source": [
        "# Removing punctuation and special characters for training data\n",
        "remove_punct(data)\n",
        "# Removing punctuation and special characters for testing data\n",
        "remove_punct(data_test)"
      ],
      "metadata": {
        "id": "7iz6vK_dESge",
        "colab": {
          "base_uri": "https://localhost:8080/"
        },
        "outputId": "0baded18-f425-41e0-a1b3-45ffb2c9d2ad"
      },
      "execution_count": null,
      "outputs": [
        {
          "output_type": "stream",
          "name": "stdout",
          "text": [
            "0    [, menyrbie, , phil_gahan, , chrisitv, , , tco...\n",
            "1    [advice, talk, to, your, neighbours, family, t...\n",
            "2    [coronavirus, australia, , woolworths, to, giv...\n",
            "3    [my, food, stock, is, not, the, only, one, whi...\n",
            "4    [me, , ready, to, go, at, supermarket, during,...\n",
            "Name: tokens_no_punct, dtype: object\n",
            "0    [trending, , new, yorkers, encounter, empty, s...\n",
            "1    [when, i, could, nt, find, hand, sanitizer, at...\n",
            "2    [find, out, how, you, can, protect, yourself, ...\n",
            "3    [, panic, buying, hits, , newyork, city, as, a...\n",
            "4    [, toiletpaper, , dunnypaper, , coronavirus, ,...\n",
            "Name: tokens_no_punct, dtype: object\n"
          ]
        }
      ]
    },
    {
      "cell_type": "markdown",
      "source": [
        "A scenario where it would be useful to keep special characters would be in the case of usernames in Twitter. It would be useful to keep the '@' symbol in the case of Twitter handles. The usernames could then be removed from the data since they do not usually add anything to the sentiment analysis of the tweet."
      ],
      "metadata": {
        "id": "yGRR5LkKfFTO"
      }
    },
    {
      "cell_type": "markdown",
      "source": [
        "\n",
        "\n",
        "---\n",
        "\n"
      ],
      "metadata": {
        "id": "oMpywUjtIeRE"
      }
    },
    {
      "cell_type": "markdown",
      "source": [
        "## E."
      ],
      "metadata": {
        "id": "DTyAfyZmybeS"
      }
    },
    {
      "cell_type": "code",
      "source": [
        "# Copying data for the purpose of lemmatization without redoing preprocessing\n",
        "# later on\n",
        "data_lem = data.copy()\n",
        "data_test_lem = data_test.copy()"
      ],
      "metadata": {
        "id": "MeKthykpIhBc"
      },
      "execution_count": null,
      "outputs": []
    },
    {
      "cell_type": "code",
      "source": [
        "#### Stemming words ####\n",
        "\n",
        "# Using PorterStemmer\n",
        "from nltk.stem.porter import *\n",
        "\n",
        "def stemming(data):\n",
        "  stemmer = PorterStemmer()\n",
        "  # Create a list of lists with what we want\n",
        "  stemmed_tokens = []\n",
        "  for row in data['tokens_no_punct']:\n",
        "    stemmed_tokens.append([stemmer.stem(t) for t in row])\n",
        "  # add the new info to our df\n",
        "  data['stemmed_tokens'] = stemmed_tokens\n",
        "\n",
        "  # Print results\n",
        "  print('Before stemming:\\n', data['tokens_no_punct'].head(3))\n",
        "  print('After stemming:\\n', data['stemmed_tokens'].head(3))\n",
        "\n",
        "# Stemming training data words\n",
        "stemming(data)\n",
        "# Stemming testing data words\n",
        "stemming(data_test)"
      ],
      "metadata": {
        "id": "8yeIuzygyX_E",
        "colab": {
          "base_uri": "https://localhost:8080/"
        },
        "outputId": "c6729e51-5f1d-4a56-cbad-7ec5543a87a1"
      },
      "execution_count": null,
      "outputs": [
        {
          "output_type": "stream",
          "name": "stdout",
          "text": [
            "Before stemming:\n",
            " 0    [, menyrbie, , phil_gahan, , chrisitv, , , tco...\n",
            "1    [advice, talk, to, your, neighbours, family, t...\n",
            "2    [coronavirus, australia, , woolworths, to, giv...\n",
            "Name: tokens_no_punct, dtype: object\n",
            "After stemming:\n",
            " 0    [, menyrbi, , phil_gahan, , chrisitv, , , tcoi...\n",
            "1    [advic, talk, to, your, neighbour, famili, to,...\n",
            "2    [coronaviru, australia, , woolworth, to, give,...\n",
            "Name: stemmed_tokens, dtype: object\n",
            "Before stemming:\n",
            " 0    [trending, , new, yorkers, encounter, empty, s...\n",
            "1    [when, i, could, nt, find, hand, sanitizer, at...\n",
            "2    [find, out, how, you, can, protect, yourself, ...\n",
            "Name: tokens_no_punct, dtype: object\n",
            "After stemming:\n",
            " 0    [trend, , new, yorker, encount, empti, superma...\n",
            "1    [when, i, could, nt, find, hand, sanit, at, fr...\n",
            "2    [find, out, how, you, can, protect, yourself, ...\n",
            "Name: stemmed_tokens, dtype: object\n"
          ]
        }
      ]
    },
    {
      "cell_type": "markdown",
      "source": [
        "\n",
        "\n",
        "---\n",
        "\n"
      ],
      "metadata": {
        "id": "MgeuF7ZoIf7E"
      }
    },
    {
      "cell_type": "markdown",
      "source": [
        "## F."
      ],
      "metadata": {
        "id": "dv9GrUMN4nfB"
      }
    },
    {
      "cell_type": "code",
      "source": [
        "#### Removing stopwords ####\n",
        "\n",
        "def stopwords(data):\n",
        "\n",
        "  # Importing and downloading stopwords\n",
        "  from nltk.corpus import stopwords\n",
        "  nltk.download('stopwords')\n",
        "\n",
        "  # Choosing to remove only the first 100 stopwords\n",
        "  sw = stopwords.words('english')[:100]\n",
        "\n",
        "  # Create a list of lists with what we want\n",
        "  tokens_no_sw = []\n",
        "  for row in data['stemmed_tokens']:\n",
        "    tokens_no_sw.append([w for w in row if w not in sw])\n",
        "  # Add column to df\n",
        "  data['tokens_no_sw'] = tokens_no_sw\n",
        "\n",
        "  # Print some examples\n",
        "  print(data['tokens_no_sw'].tail(5))\n",
        "\n",
        "# Removing stopwords from training stemmed tokens\n",
        "stopwords(data)\n",
        "# Removing stopwords from testing stemmed tokens\n",
        "stopwords(data_test)"
      ],
      "metadata": {
        "id": "rGBoWK983Df_",
        "colab": {
          "base_uri": "https://localhost:8080/"
        },
        "outputId": "121d29c0-4035-47d7-e956-7e405cb1baf0"
      },
      "execution_count": null,
      "outputs": [
        {
          "output_type": "stream",
          "name": "stderr",
          "text": [
            "[nltk_data] Downloading package stopwords to /root/nltk_data...\n",
            "[nltk_data]   Package stopwords is already up-to-date!\n"
          ]
        },
        {
          "output_type": "stream",
          "name": "stdout",
          "text": [
            "41150    [airlin, pilot, offer, stock, supermarket, she...\n",
            "41151    [respons, complaint, not, provid, cite, covid1...\n",
            "41152    [know, itâ, get, tough, when, , kameronwild, r...\n",
            "41153    [wrong, smell, hand, sanit, start, turn, , , c...\n",
            "41154    [, tartiicat, well, newus, rift, s, go, , 7000...\n",
            "Name: tokens_no_sw, dtype: object\n"
          ]
        },
        {
          "output_type": "stream",
          "name": "stderr",
          "text": [
            "[nltk_data] Downloading package stopwords to /root/nltk_data...\n",
            "[nltk_data]   Package stopwords is already up-to-date!\n"
          ]
        },
        {
          "output_type": "stream",
          "name": "stdout",
          "text": [
            "3793    [meanwhil, supermarket, israel, , peopl, danc,...\n",
            "3794    [panic, buy, lot, nonperish, item, , echo, nee...\n",
            "3795    [asst, prof, econom, , cconc, wa, , nbcphilade...\n",
            "3796    [gov, need, someth, instead, biar, je, rakyat,...\n",
            "3797    [, forestandpap, member, commit, safeti, emplo...\n",
            "Name: tokens_no_sw, dtype: object\n"
          ]
        }
      ]
    },
    {
      "cell_type": "markdown",
      "source": [
        "\n",
        "\n",
        "---\n",
        "\n"
      ],
      "metadata": {
        "id": "MXX8lha9JVDl"
      }
    },
    {
      "cell_type": "markdown",
      "source": [
        "## G."
      ],
      "metadata": {
        "id": "pDr21fdEVhBS"
      }
    },
    {
      "cell_type": "code",
      "source": [
        "#### Dropping intermediate columns ####\n",
        "\n",
        "def column_drop(data):\n",
        "  list(data)\n",
        "  data.drop(['tokens','lowercase_tokens', 'tokens_no_punct','stemmed_tokens'], axis = 1, inplace=True)\n",
        "\n",
        "  print('After removal:\\n', list(data))\n",
        "\n",
        "  # Remove blank tokens\n",
        "  no_blanks = []\n",
        "  for row in data['tokens_no_sw']:\n",
        "    no_blanks.append([t for t in row if t != ''])\n",
        "  data['tokens'] = no_blanks\n",
        "\n",
        "  print(data['tokens'].head(5))\n",
        "\n",
        "  # drop the last intermediate column\n",
        "  data.drop(['tokens_no_sw'], axis = 1, inplace=True)\n",
        "\n",
        "  # Now we should have only the label, original text, and cleaned token lists\n",
        "  print('Current Columns:\\n',list(data))\n",
        "\n",
        "# Dropping intermediate columns for training data (Stemmed)\n",
        "column_drop(data)\n",
        "# Dropping intermediate columns for testing data (Stemmed)\n",
        "column_drop(data_test)"
      ],
      "metadata": {
        "id": "qHN6oPLxZ9Xl",
        "colab": {
          "base_uri": "https://localhost:8080/"
        },
        "outputId": "b7a8cb73-a211-4240-fe41-c19d9a7d46a7"
      },
      "execution_count": null,
      "outputs": [
        {
          "output_type": "stream",
          "name": "stdout",
          "text": [
            "After removal:\n",
            " ['Unnamed: 0', 'OriginalTweet', 'Sentiment', 'tokens_no_sw']\n",
            "0    [menyrbi, phil_gahan, chrisitv, tcoifz9fan2pa,...\n",
            "1    [advic, talk, neighbour, famili, exchang, phon...\n",
            "2    [coronaviru, australia, woolworth, give, elder...\n",
            "3    [food, stock, not, onli, one, empti, pleas, nt...\n",
            "4    [readi, go, supermarket, dure, covid19, outbre...\n",
            "Name: tokens, dtype: object\n",
            "Current Columns:\n",
            " ['Unnamed: 0', 'OriginalTweet', 'Sentiment', 'tokens']\n",
            "After removal:\n",
            " ['Unnamed: 0', 'OriginalTweet', 'Sentiment', 'tokens_no_sw']\n",
            "0    [trend, new, yorker, encount, empti, supermark...\n",
            "1    [when, could, nt, find, hand, sanit, fred, mey...\n",
            "2     [find, how, can, protect, love, one, coronaviru]\n",
            "3    [panic, buy, hit, newyork, citi, anxiou, shopp...\n",
            "4    [toiletpap, dunnypap, coronaviru, coronavirusa...\n",
            "Name: tokens, dtype: object\n",
            "Current Columns:\n",
            " ['Unnamed: 0', 'OriginalTweet', 'Sentiment', 'tokens']\n"
          ]
        }
      ]
    },
    {
      "cell_type": "code",
      "source": [
        "# Dropping NA values\n",
        "data.dropna(inplace=True)\n",
        "data_test.dropna(inplace=True)"
      ],
      "metadata": {
        "id": "YV_z4lxjbHjn"
      },
      "execution_count": null,
      "outputs": []
    },
    {
      "cell_type": "code",
      "source": [
        "#### Vectorizing training data (Stemmed) ####\n",
        "\n",
        "def override_fcn(doc):\n",
        "  # We expect a list of tokens as input\n",
        "  return doc\n",
        "\n",
        "# Separate labels from features, converting to numpy arrays\n",
        "X, y = data['tokens'].to_numpy(), data['Sentiment'].to_numpy()\n",
        "\n",
        "# Count Vectorizer\n",
        "count_vec = CountVectorizer(\n",
        "    analyzer='word',\n",
        "    tokenizer= override_fcn,\n",
        "    preprocessor= override_fcn,\n",
        "    token_pattern= None,\n",
        "    max_features = 1000)\n",
        "\n",
        "counts = count_vec.fit_transform(X)\n",
        "print(counts.toarray().shape)\n",
        "\n",
        "X = counts.toarray()"
      ],
      "metadata": {
        "id": "1NqN9EbTVqRC",
        "colab": {
          "base_uri": "https://localhost:8080/"
        },
        "outputId": "34e8a8ee-56ad-4121-dfe5-0fbbba12cff4"
      },
      "execution_count": null,
      "outputs": [
        {
          "output_type": "stream",
          "name": "stdout",
          "text": [
            "(41153, 1000)\n"
          ]
        }
      ]
    },
    {
      "cell_type": "markdown",
      "source": [
        "Choosing to consider a maximum of 1000 features (due to RAM crashing issues on Colab), the length of the vocabulary is 41153000."
      ],
      "metadata": {
        "id": "jU44EU9-2tZP"
      }
    },
    {
      "cell_type": "code",
      "source": [
        "#### Vectorizing testing data (Stemmed) ####\n",
        "\n",
        "# Separate labels from features, converting to numpy arrays\n",
        "X_test, y_test = data_test['tokens'].to_numpy(), data_test['Sentiment'].to_numpy()\n",
        "\n",
        "\n",
        "def override_fcn(doc):\n",
        "  # We expect a list of tokens as input\n",
        "  return doc\n",
        "\n",
        "# Count Vectorizer\n",
        "count_vec = CountVectorizer(\n",
        "    analyzer='word',\n",
        "    tokenizer= override_fcn,\n",
        "    preprocessor= override_fcn,\n",
        "    token_pattern= None,\n",
        "    max_features = 1000)\n",
        "\n",
        "counts_test = count_vec.fit_transform(X_test)\n",
        "print(counts_test.toarray().shape)\n",
        "\n",
        "X_test = counts_test.toarray()"
      ],
      "metadata": {
        "colab": {
          "base_uri": "https://localhost:8080/"
        },
        "id": "csQFEDOinoFs",
        "outputId": "0b7c1113-6ed6-42a0-a646-bdbe8cb27a8b"
      },
      "execution_count": null,
      "outputs": [
        {
          "output_type": "stream",
          "name": "stdout",
          "text": [
            "(3798, 1000)\n"
          ]
        }
      ]
    },
    {
      "cell_type": "markdown",
      "source": [
        "Choosing to consider a maximum of 1000 features (due to RAM crashing issues on Colab), the length of the vocabulary is 3798000."
      ],
      "metadata": {
        "id": "yoXrUUpH3x57"
      }
    },
    {
      "cell_type": "markdown",
      "source": [
        "\n",
        "\n",
        "---\n",
        "\n"
      ],
      "metadata": {
        "id": "hBd8zgeMWadW"
      }
    },
    {
      "cell_type": "markdown",
      "source": [
        "### H."
      ],
      "metadata": {
        "id": "S_RBy0r1LDGG"
      }
    },
    {
      "cell_type": "code",
      "source": [
        "# Let's fit the Naive Bayes model to our training data\n",
        "\n",
        "# Laplace smoothing is done by default\n",
        "nb = MultinomialNB()\n",
        "# Fit model to training data\n",
        "nb.fit(X, y)\n",
        "# Predict on train data\n",
        "y_preds = nb.predict(X)\n",
        "\n",
        "print('Train accuracy with simple Naive Bayes:',accuracy_score(y,y_preds))"
      ],
      "metadata": {
        "id": "SWOyspVmXw9j",
        "colab": {
          "base_uri": "https://localhost:8080/"
        },
        "outputId": "7d87ddc8-d86f-4d64-d68e-a65edd83d4e0"
      },
      "execution_count": null,
      "outputs": [
        {
          "output_type": "stream",
          "name": "stdout",
          "text": [
            "Train accuracy with simple Naive Bayes: 0.6817485967001191\n"
          ]
        }
      ]
    },
    {
      "cell_type": "code",
      "source": [
        "# Let's fit the Naive Bayes model to our testing data\n",
        "\n",
        "# Laplace smoothing is doen by default\n",
        "nb = MultinomialNB()\n",
        "# Fit model to training data\n",
        "nb.fit(X, y)\n",
        "# Predict on test data\n",
        "y_preds = nb.predict(X_test)\n",
        "\n",
        "print('Test accuracy with simple Naive Bayes:',accuracy_score(y_test.astype(str),y_preds.astype(str)))"
      ],
      "metadata": {
        "id": "fuSjE0H4n3HJ",
        "colab": {
          "base_uri": "https://localhost:8080/"
        },
        "outputId": "7071c0ab-3360-4b37-db2c-5ebaac82b226"
      },
      "execution_count": null,
      "outputs": [
        {
          "output_type": "stream",
          "name": "stdout",
          "text": [
            "Test accuracy with simple Naive Bayes: 0.2904160084254871\n"
          ]
        }
      ]
    },
    {
      "cell_type": "markdown",
      "source": [
        "The training accuracy is approximately 68% and the testing accuracy is approximately 29%."
      ],
      "metadata": {
        "id": "GoMv6NXfL4rO"
      }
    },
    {
      "cell_type": "markdown",
      "source": [
        "\n",
        "\n",
        "---\n",
        "\n"
      ],
      "metadata": {
        "id": "pKdtztuTWbbd"
      }
    },
    {
      "cell_type": "markdown",
      "source": [
        "### I."
      ],
      "metadata": {
        "id": "cVbza2LIJzcP"
      }
    },
    {
      "cell_type": "markdown",
      "source": [
        "It would not be appropriate to fit an ROC curve in this scenario since it is a graphical plot that illustrates the diagnostic ability of a **binary classifier system** as its discrimination threshold is varied (https://www.researchgate.net/post/What-situation-we-have-to-use-ROC-curve-analysis). This implies that it would work best to check binary classifier models, but in our case **we have three classes**.\n",
        "\n",
        "If we wanted to plot ROC curves in this scenario, we would need to plot one for every class, with the binary signal being whether or not the tweet belongs to that class."
      ],
      "metadata": {
        "id": "OOby1aONHfqG"
      }
    },
    {
      "cell_type": "markdown",
      "source": [
        "\n",
        "\n",
        "---\n",
        "\n"
      ],
      "metadata": {
        "id": "RAKcG9BwWcLW"
      }
    },
    {
      "cell_type": "markdown",
      "source": [
        "### J."
      ],
      "metadata": {
        "id": "I7_rqJP573Go"
      }
    },
    {
      "cell_type": "code",
      "source": [
        "#### TF-IDF Vectorize for training data ####\n",
        "\n",
        "# Smoothing is done by default\n",
        "tfidf = TfidfTransformer()\n",
        "\n",
        "tfs = tfidf.fit_transform(counts)\n",
        "\n",
        "print(tfs.toarray())\n",
        "\n",
        "# Using TFIDF counts for modelling\n",
        "X = tfs.toarray()\n",
        "\n",
        "# First three rows of training features and labels\n",
        "print('First 3 features:\\n',X[:3])\n",
        "print('First 3 labels:\\n',y[:3])"
      ],
      "metadata": {
        "id": "iIsTNEZjkpr2",
        "colab": {
          "base_uri": "https://localhost:8080/"
        },
        "outputId": "fac1ecc5-d56a-474e-cc7f-b02db1330300"
      },
      "execution_count": null,
      "outputs": [
        {
          "output_type": "stream",
          "name": "stdout",
          "text": [
            "[[0. 0. 0. ... 0. 0. 0.]\n",
            " [0. 0. 0. ... 0. 0. 0.]\n",
            " [0. 0. 0. ... 0. 0. 0.]\n",
            " ...\n",
            " [0. 0. 0. ... 0. 0. 0.]\n",
            " [0. 0. 0. ... 0. 0. 0.]\n",
            " [0. 0. 0. ... 0. 0. 0.]]\n",
            "First 3 features:\n",
            " [[0. 0. 0. ... 0. 0. 0.]\n",
            " [0. 0. 0. ... 0. 0. 0.]\n",
            " [0. 0. 0. ... 0. 0. 0.]]\n",
            "First 3 labels:\n",
            " ['1' '2' '2']\n"
          ]
        }
      ]
    },
    {
      "cell_type": "code",
      "source": [
        "#### TF-IDF Vectorize for testing data ####\n",
        "\n",
        "# Smoothing is done by default\n",
        "tfidf = TfidfTransformer()\n",
        "\n",
        "tfs = tfidf.fit_transform(counts_test)\n",
        "\n",
        "print(tfs.toarray())\n",
        "\n",
        "# Using the TFIDF counts for modelling\n",
        "X_test = tfs.toarray()\n",
        "\n",
        "# First three rows of training features and labels\n",
        "print('First 3 features:\\n',X_test[:3])\n",
        "print('First 3 labels:\\n',y_test[:3])"
      ],
      "metadata": {
        "id": "8pt5XDYu7O07",
        "colab": {
          "base_uri": "https://localhost:8080/"
        },
        "outputId": "f82991e3-2284-4514-87b9-3d3970d0fe78"
      },
      "execution_count": null,
      "outputs": [
        {
          "output_type": "stream",
          "name": "stdout",
          "text": [
            "[[0. 0. 0. ... 0. 0. 0.]\n",
            " [0. 0. 0. ... 0. 0. 0.]\n",
            " [0. 0. 0. ... 0. 0. 0.]\n",
            " ...\n",
            " [0. 0. 0. ... 0. 0. 0.]\n",
            " [0. 0. 0. ... 0. 0. 0.]\n",
            " [0. 0. 0. ... 0. 0. 0.]]\n",
            "First 3 features:\n",
            " [[0. 0. 0. ... 0. 0. 0.]\n",
            " [0. 0. 0. ... 0. 0. 0.]\n",
            " [0. 0. 0. ... 0. 0. 0.]]\n",
            "First 3 labels:\n",
            " [0 2 2]\n"
          ]
        }
      ]
    },
    {
      "cell_type": "code",
      "source": [
        "#### Naive Bayes model for training data using TF-IDF Vectorization ####\n",
        "\n",
        "# Fitting the Naive Bayes model to our training data\n",
        "nb = MultinomialNB()\n",
        "# Fit model to training data\n",
        "nb.fit(X, y)\n",
        "# Predict on train data\n",
        "y_preds = nb.predict(X)\n",
        "\n",
        "print('Train accuracy with simple Naive Bayes:',accuracy_score(y,y_preds))"
      ],
      "metadata": {
        "id": "Vda3He0w8Fvo",
        "colab": {
          "base_uri": "https://localhost:8080/"
        },
        "outputId": "de6fda67-90df-48cf-b386-94371d8eba47"
      },
      "execution_count": null,
      "outputs": [
        {
          "output_type": "stream",
          "name": "stdout",
          "text": [
            "Train accuracy with simple Naive Bayes: 0.6646174033484801\n"
          ]
        }
      ]
    },
    {
      "cell_type": "code",
      "source": [
        "#### Naive Bayes model for testing data using TF-IDF Vectorization ####\n",
        "\n",
        "# Fitting the Naive Bayes model to our training data\n",
        "nb = MultinomialNB()\n",
        "# Fit model to training data\n",
        "nb.fit(X, y)\n",
        "# Predict on test data\n",
        "y_preds = nb.predict(X_test)\n",
        "\n",
        "print('Test accuracy with simple Naive Bayes:',accuracy_score(y_test.astype(str),y_preds.astype(str)))"
      ],
      "metadata": {
        "id": "pfCrc6My8Vbk",
        "colab": {
          "base_uri": "https://localhost:8080/"
        },
        "outputId": "e365da26-0727-4957-9953-931b8dee890e"
      },
      "execution_count": null,
      "outputs": [
        {
          "output_type": "stream",
          "name": "stdout",
          "text": [
            "Test accuracy with simple Naive Bayes: 0.4204844655081622\n"
          ]
        }
      ]
    },
    {
      "cell_type": "markdown",
      "source": [
        "The training accuracy is approximately 66% and the testing accuracy is approximately 42%.\n",
        "\n",
        "The training accuracy with TF-IDF vectorization is similar to that with Count Vectorization, except Count Vectorization may perform slightly better (68% comapred to 66%).\n",
        "\n",
        "The testing accuracy, however, is marginally better (13%) with TF-IDF vectorization (42%), as compared to Count Vectorization (29%)."
      ],
      "metadata": {
        "id": "hblSbY2w8jnS"
      }
    },
    {
      "cell_type": "markdown",
      "source": [
        "\n",
        "\n",
        "---\n",
        "\n"
      ],
      "metadata": {
        "id": "oxxQ1zCNWdd5"
      }
    },
    {
      "cell_type": "markdown",
      "source": [
        "### K."
      ],
      "metadata": {
        "id": "OYoVL6ZH-b33"
      }
    },
    {
      "cell_type": "code",
      "source": [
        "#### Lemmatizing Words ####\n",
        "\n",
        "def lemming(data_lem):\n",
        "  nltk.download('omw-1.4')\n",
        "  from nltk.stem import WordNetLemmatizer\n",
        "  nltk.download('wordnet')\n",
        "\n",
        "  lemmatizer = WordNetLemmatizer()\n",
        "\n",
        "  lem_tokens = []\n",
        "  for row in data_lem['tokens_no_punct']:\n",
        "    lem_tokens.append([lemmatizer.lemmatize(t) for t in row])\n",
        "\n",
        "  data_lem['lem_tokens'] = lem_tokens\n",
        "\n",
        "  # Print results\n",
        "  print(data_lem['lem_tokens'].head(5))"
      ],
      "metadata": {
        "id": "S2zCgEF7CkCf"
      },
      "execution_count": null,
      "outputs": []
    },
    {
      "cell_type": "code",
      "source": [
        "# Lemmatizing training data Words\n",
        "lemming(data_lem)\n",
        "# Lemmatizing testing data Words\n",
        "lemming(data_test_lem)"
      ],
      "metadata": {
        "id": "yYiPvLbFFXwb",
        "colab": {
          "base_uri": "https://localhost:8080/"
        },
        "outputId": "0b751c0e-2c52-4e6a-8ebe-dfe279229122"
      },
      "execution_count": null,
      "outputs": [
        {
          "output_type": "stream",
          "name": "stderr",
          "text": [
            "[nltk_data] Downloading package omw-1.4 to /root/nltk_data...\n",
            "[nltk_data]   Package omw-1.4 is already up-to-date!\n",
            "[nltk_data] Downloading package wordnet to /root/nltk_data...\n",
            "[nltk_data]   Package wordnet is already up-to-date!\n"
          ]
        },
        {
          "output_type": "stream",
          "name": "stdout",
          "text": [
            "0    [, menyrbie, , phil_gahan, , chrisitv, , , tco...\n",
            "1    [advice, talk, to, your, neighbour, family, to...\n",
            "2    [coronavirus, australia, , woolworth, to, give...\n",
            "3    [my, food, stock, is, not, the, only, one, whi...\n",
            "4    [me, , ready, to, go, at, supermarket, during,...\n",
            "Name: lem_tokens, dtype: object\n"
          ]
        },
        {
          "output_type": "stream",
          "name": "stderr",
          "text": [
            "[nltk_data] Downloading package omw-1.4 to /root/nltk_data...\n",
            "[nltk_data]   Package omw-1.4 is already up-to-date!\n",
            "[nltk_data] Downloading package wordnet to /root/nltk_data...\n",
            "[nltk_data]   Package wordnet is already up-to-date!\n"
          ]
        },
        {
          "output_type": "stream",
          "name": "stdout",
          "text": [
            "0    [trending, , new, yorkers, encounter, empty, s...\n",
            "1    [when, i, could, nt, find, hand, sanitizer, at...\n",
            "2    [find, out, how, you, can, protect, yourself, ...\n",
            "3    [, panic, buying, hit, , newyork, city, a, anx...\n",
            "4    [, toiletpaper, , dunnypaper, , coronavirus, ,...\n",
            "Name: lem_tokens, dtype: object\n"
          ]
        }
      ]
    },
    {
      "cell_type": "code",
      "source": [
        "#### Removing stopwords from lemmatized tokens ####\n",
        "\n",
        "def lem_stopwords(data_lem):\n",
        "  from nltk.corpus import stopwords\n",
        "  nltk.download('stopwords')\n",
        "\n",
        "  sw = stopwords.words('english')[:100]\n",
        "\n",
        "  tokens_no_sw = []\n",
        "  for row in data_lem['lem_tokens']:\n",
        "    tokens_no_sw.append([w for w in row if w not in sw])\n",
        "  # Add column to df\n",
        "  data_lem['tokens_no_sw'] = tokens_no_sw\n",
        "\n",
        "  # Print some examples\n",
        "  print(data_lem['tokens_no_sw'].tail(5))"
      ],
      "metadata": {
        "id": "srEKIKdPFVcx"
      },
      "execution_count": null,
      "outputs": []
    },
    {
      "cell_type": "code",
      "source": [
        "# Removing stopwords from training lemmatized tokens\n",
        "lem_stopwords(data_lem)\n",
        "# Removing stopwords from testing lemmatized tokens\n",
        "lem_stopwords(data_test_lem)"
      ],
      "metadata": {
        "id": "3mPwWXKbFdtB",
        "colab": {
          "base_uri": "https://localhost:8080/"
        },
        "outputId": "fa4dc23d-f10f-4134-8c53-0cc138631770"
      },
      "execution_count": null,
      "outputs": [
        {
          "output_type": "stream",
          "name": "stderr",
          "text": [
            "[nltk_data] Downloading package stopwords to /root/nltk_data...\n",
            "[nltk_data]   Package stopwords is already up-to-date!\n"
          ]
        },
        {
          "output_type": "stream",
          "name": "stdout",
          "text": [
            "41150    [airline, pilot, offering, stock, supermarket,...\n",
            "41151    [response, complaint, not, provided, citing, c...\n",
            "41152    [know, itâs, getting, tough, when, , kameronwi...\n",
            "41153    [wrong, smell, hand, sanitizer, starting, turn...\n",
            "41154    [, tartiicat, well, newused, rift, s, going, ,...\n",
            "Name: tokens_no_sw, dtype: object\n"
          ]
        },
        {
          "output_type": "stream",
          "name": "stderr",
          "text": [
            "[nltk_data] Downloading package stopwords to /root/nltk_data...\n",
            "[nltk_data]   Package stopwords is already up-to-date!\n"
          ]
        },
        {
          "output_type": "stream",
          "name": "stdout",
          "text": [
            "3793    [meanwhile, supermarket, israel, , people, dan...\n",
            "3794    [panic, buy, lot, nonperishable, item, , echo,...\n",
            "3795    [asst, prof, economics, , cconces, wa, , nbcph...\n",
            "3796    [gov, need, somethings, instead, biar, je, rak...\n",
            "3797    [, forestandpaper, member, committed, safety, ...\n",
            "Name: tokens_no_sw, dtype: object\n"
          ]
        }
      ]
    },
    {
      "cell_type": "code",
      "source": [
        "#### Dropping intermediate columns (Lemmatization) ####\n",
        "\n",
        "def lem_drop(data_lem):\n",
        "  list(data_lem)\n",
        "  data_lem = data_lem.drop(['tokens','lowercase_tokens', 'tokens_no_punct','lem_tokens'], axis = 1)\n",
        "\n",
        "  print('After removal:\\n', list(data_lem))\n",
        "\n",
        "  # Remove blank tokens\n",
        "  no_blanks = []\n",
        "  for row in data_lem['tokens_no_sw']:\n",
        "    no_blanks.append([t for t in row if t != ''])\n",
        "  data_lem['tokens'] = no_blanks\n",
        "\n",
        "  print(data_lem['tokens'].head(5))\n",
        "\n",
        "  # drop the last intermediate column\n",
        "  data_lem = data_lem.drop(['tokens_no_sw'], axis = 1)\n",
        "\n",
        "  # Now we should have only the label, original text, and cleaned token lists\n",
        "  print('Current Columns:\\n',list(data_lem))"
      ],
      "metadata": {
        "id": "772LYblSLlnp"
      },
      "execution_count": null,
      "outputs": []
    },
    {
      "cell_type": "code",
      "source": [
        "# Dropping intermediate columns in the training dataset\n",
        "lem_drop(data_lem)\n",
        "# Dropping intermediate columns in the testing dataset\n",
        "lem_drop(data_test_lem)"
      ],
      "metadata": {
        "id": "3NexARJjFmDN",
        "colab": {
          "base_uri": "https://localhost:8080/"
        },
        "outputId": "b10c2dad-305b-4457-953d-008dadf08a2b"
      },
      "execution_count": null,
      "outputs": [
        {
          "output_type": "stream",
          "name": "stdout",
          "text": [
            "After removal:\n",
            " ['Unnamed: 0', 'OriginalTweet', 'Sentiment', 'tokens_no_sw']\n",
            "0    [menyrbie, phil_gahan, chrisitv, tcoifz9fan2pa...\n",
            "1    [advice, talk, neighbour, family, exchange, ph...\n",
            "2    [coronavirus, australia, woolworth, give, elde...\n",
            "3    [food, stock, not, only, one, empty, please, n...\n",
            "4    [ready, go, supermarket, covid19, outbreak, no...\n",
            "Name: tokens, dtype: object\n",
            "Current Columns:\n",
            " ['Unnamed: 0', 'OriginalTweet', 'Sentiment', 'tokens']\n",
            "After removal:\n",
            " ['Unnamed: 0', 'OriginalTweet', 'Sentiment', 'tokens_no_sw']\n",
            "0    [trending, new, yorkers, encounter, empty, sup...\n",
            "1    [when, could, nt, find, hand, sanitizer, fred,...\n",
            "2    [find, how, can, protect, loved, one, coronavi...\n",
            "3    [panic, buying, hit, newyork, city, anxious, s...\n",
            "4    [toiletpaper, dunnypaper, coronavirus, coronav...\n",
            "Name: tokens, dtype: object\n",
            "Current Columns:\n",
            " ['Unnamed: 0', 'OriginalTweet', 'Sentiment', 'tokens']\n"
          ]
        }
      ]
    },
    {
      "cell_type": "code",
      "source": [
        "# Dropping NA values\n",
        "data_lem = data_lem.dropna()\n",
        "data_test_lem = data_test_lem.dropna()"
      ],
      "metadata": {
        "id": "IcPFvMjaLUCM"
      },
      "execution_count": null,
      "outputs": []
    },
    {
      "cell_type": "code",
      "source": [
        "#### Vectorizing training data (Lemmatized) ####\n",
        "\n",
        "# Separate labels from features, converting to numpy arrays\n",
        "X, y = data_lem['tokens'].to_numpy(), data_lem['Sentiment'].to_numpy()\n",
        "\n",
        "\n",
        "def override_fcn(doc):\n",
        "  # We expect a list of tokens as input\n",
        "  return doc\n",
        "\n",
        "# Count Vectorizer\n",
        "count_vec = CountVectorizer(\n",
        "    analyzer='word',\n",
        "    tokenizer= override_fcn,\n",
        "    preprocessor= override_fcn,\n",
        "    token_pattern= None,\n",
        "    max_features = 1000)\n",
        "\n",
        "counts = count_vec.fit_transform(X)\n",
        "print(counts.toarray().shape)\n",
        "\n",
        "X = counts.toarray()"
      ],
      "metadata": {
        "id": "qZV7oY_FMtK7",
        "colab": {
          "base_uri": "https://localhost:8080/"
        },
        "outputId": "ff12766f-e40d-4e14-b5b4-542100514be9"
      },
      "execution_count": null,
      "outputs": [
        {
          "output_type": "stream",
          "name": "stdout",
          "text": [
            "(41153, 1000)\n"
          ]
        }
      ]
    },
    {
      "cell_type": "code",
      "source": [
        "#### TF-IDF Vectorize for training data ####\n",
        "\n",
        "# Smoothing is done by default\n",
        "tfidf = TfidfTransformer()\n",
        "\n",
        "tfs = tfidf.fit_transform(counts)\n",
        "\n",
        "print(tfs.toarray())\n",
        "\n",
        "# Using the TFIDF counts for modelling\n",
        "X = tfs.toarray()\n",
        "\n",
        "# First three rows of training features and labels\n",
        "print('First 3 features:\\n',X[:3])\n",
        "print('First 3 labels:\\n',y[:3])"
      ],
      "metadata": {
        "id": "iWOfO5I7NKni",
        "colab": {
          "base_uri": "https://localhost:8080/"
        },
        "outputId": "c0e9edd7-c0ad-4aba-8a88-c3432f091011"
      },
      "execution_count": null,
      "outputs": [
        {
          "output_type": "stream",
          "name": "stdout",
          "text": [
            "[[0.         0.         0.         ... 0.         0.         0.        ]\n",
            " [0.         0.         0.         ... 0.         0.         0.        ]\n",
            " [0.         0.         0.         ... 0.         0.         0.        ]\n",
            " ...\n",
            " [0.35997769 0.17435234 0.         ... 0.         0.         0.        ]\n",
            " [0.         0.31009039 0.         ... 0.         0.         0.        ]\n",
            " [0.         0.         0.34589378 ... 0.         0.         0.        ]]\n",
            "First 3 features:\n",
            " [[0. 0. 0. ... 0. 0. 0.]\n",
            " [0. 0. 0. ... 0. 0. 0.]\n",
            " [0. 0. 0. ... 0. 0. 0.]]\n",
            "First 3 labels:\n",
            " ['1' '2' '2']\n"
          ]
        }
      ]
    },
    {
      "cell_type": "code",
      "source": [
        "#### Vectorizing testing data (Lemmatized) ####\n",
        "\n",
        "# Separate labels from features, converting to numpy arrays\n",
        "X_test, y_test = data_test_lem['tokens'].to_numpy(), data_test_lem['Sentiment'].to_numpy()\n",
        "\n",
        "\n",
        "def override_fcn(doc):\n",
        "  # We expect a list of tokens as input\n",
        "  return doc\n",
        "\n",
        "# Count Vectorizer\n",
        "count_vec = CountVectorizer(\n",
        "    analyzer='word',\n",
        "    tokenizer= override_fcn,\n",
        "    preprocessor= override_fcn,\n",
        "    token_pattern= None,\n",
        "    max_features = 1000)\n",
        "\n",
        "counts_test = count_vec.fit_transform(X_test)\n",
        "print(counts_test.toarray().shape)\n",
        "\n",
        "X_test = counts_test.toarray()"
      ],
      "metadata": {
        "id": "3hamLBFhM8n3",
        "colab": {
          "base_uri": "https://localhost:8080/"
        },
        "outputId": "96d562a9-e1bc-4dde-8ed0-f0b4c1cb2b19"
      },
      "execution_count": null,
      "outputs": [
        {
          "output_type": "stream",
          "name": "stdout",
          "text": [
            "(3798, 1000)\n"
          ]
        }
      ]
    },
    {
      "cell_type": "code",
      "source": [
        "#### TF-IDF Vectorize for testing data ####\n",
        "\n",
        "# Smoothing is done by default\n",
        "tfidf = TfidfTransformer()\n",
        "\n",
        "tfs = tfidf.fit_transform(counts_test)\n",
        "\n",
        "print(tfs.toarray())\n",
        "\n",
        "# Using the TFIDF counts for modelling\n",
        "X_test = tfs.toarray()\n",
        "\n",
        "# First three rows of training features and labels\n",
        "print('First 3 features:\\n',X_test[:3])\n",
        "print('First 3 labels:\\n',y_test[:3])"
      ],
      "metadata": {
        "id": "VZRZy_5ANN4X",
        "colab": {
          "base_uri": "https://localhost:8080/"
        },
        "outputId": "4c8a0fe4-81f8-45b8-9123-c1146d7aa671"
      },
      "execution_count": null,
      "outputs": [
        {
          "output_type": "stream",
          "name": "stdout",
          "text": [
            "[[0.         0.06927186 0.         ... 0.         0.         0.        ]\n",
            " [0.26265748 0.11441475 0.20837977 ... 0.         0.         0.        ]\n",
            " [0.         0.09332267 0.         ... 0.         0.         0.        ]\n",
            " ...\n",
            " [0.         0.         0.         ... 0.         0.         0.        ]\n",
            " [0.         0.07452294 0.         ... 0.         0.         0.        ]\n",
            " [0.         0.         0.         ... 0.         0.         0.        ]]\n",
            "First 3 features:\n",
            " [[0.         0.06927186 0.         ... 0.         0.         0.        ]\n",
            " [0.26265748 0.11441475 0.20837977 ... 0.         0.         0.        ]\n",
            " [0.         0.09332267 0.         ... 0.         0.         0.        ]]\n",
            "First 3 labels:\n",
            " [0 2 2]\n"
          ]
        }
      ]
    },
    {
      "cell_type": "code",
      "source": [
        "#### Naive Bayes model for training data using TF-IDF Vectorization ####\n",
        "\n",
        "# Let's fit the Naive Bayes model to our training data\n",
        "nb = MultinomialNB()\n",
        "# Fit model to training data\n",
        "nb.fit(X, y)\n",
        "# Predict on test data\n",
        "y_preds = nb.predict(X)\n",
        "\n",
        "print('Train accuracy with simple Naive Bayes:',accuracy_score(y,y_preds))"
      ],
      "metadata": {
        "id": "zsTUn8yTNTjX",
        "colab": {
          "base_uri": "https://localhost:8080/"
        },
        "outputId": "09d1e3fd-9cba-4443-d4f3-71cb887232fc"
      },
      "execution_count": null,
      "outputs": [
        {
          "output_type": "stream",
          "name": "stdout",
          "text": [
            "Train accuracy with simple Naive Bayes: 0.6313998979418268\n"
          ]
        }
      ]
    },
    {
      "cell_type": "code",
      "source": [
        "# Let's fit the Naive Bayes model to our training data\n",
        "nb = MultinomialNB()\n",
        "# Fit model to training data\n",
        "nb.fit(X, y)\n",
        "# Predict on test data\n",
        "y_preds = nb.predict(X_test)\n",
        "\n",
        "print('Test accuracy with simple Naive Bayes:',accuracy_score(y_test.astype(str),y_preds.astype(str)))"
      ],
      "metadata": {
        "id": "xIYkUt2VNYEP",
        "colab": {
          "base_uri": "https://localhost:8080/"
        },
        "outputId": "b3b00a20-a941-4dae-f7d7-010f2a0fe10c"
      },
      "execution_count": null,
      "outputs": [
        {
          "output_type": "stream",
          "name": "stdout",
          "text": [
            "Test accuracy with simple Naive Bayes: 0.4426013691416535\n"
          ]
        }
      ]
    },
    {
      "cell_type": "markdown",
      "source": [
        "The training accuracy is approximately 63% and the testing accuracy is approximately 44%.\n",
        "\n",
        "The training accuracy with lemmatization is similar to that with stemming, except stemming may perform slightly better (66% compared to 63%). The testing accuracy, however, is slightly better (2%) with lemmatization (44%), as compared to stemming (42%).\n"
      ],
      "metadata": {
        "id": "xJiFmjEGOfZS"
      }
    },
    {
      "cell_type": "markdown",
      "source": [
        "\n",
        "\n",
        "---\n",
        "\n"
      ],
      "metadata": {
        "id": "a9YrurejWf0b"
      }
    },
    {
      "cell_type": "markdown",
      "source": [
        "#Part 2"
      ],
      "metadata": {
        "id": "cz794M8bvhVW"
      }
    },
    {
      "cell_type": "code",
      "source": [
        "# Twitter API Credentials\n",
        "# Used to extract tweets (DO NOT RUN)\n",
        "api_key = 'ZJq0AKIQG2KJXVYnNPhbLHNqh'\n",
        "\n",
        "api_secret_key = 'IpVlhy5rsDlu1nfBQACBhWRHPiJwPdz9JxpW7gzzLLuT5dSYv8'\n",
        "\n",
        "access_key =  '3647359813-5QVl0YgeCJFMz1XxyWR8gQLEo0xXirgszRIdUeG'\n",
        "\n",
        "access_secret = 'cvM355h2HmqoRoSqkKRgJ1RcmAczT66tiuzSMbp18x7Yg'"
      ],
      "metadata": {
        "id": "8_Qjrx6qDoTi"
      },
      "execution_count": null,
      "outputs": []
    },
    {
      "cell_type": "code",
      "source": [
        "# Used to extract tweets (DO NOT RUN)\n",
        "import tweepy as tw\n",
        "\n",
        "# Use credentials to authorize access\n",
        "auth = tw.OAuthHandler(api_key, api_secret_key)\n",
        "auth.set_access_token(access_key, access_secret)\n",
        "api = tw.API(auth, wait_on_rate_limit=True)"
      ],
      "metadata": {
        "id": "I3SIcEVyDjSv"
      },
      "execution_count": null,
      "outputs": []
    },
    {
      "cell_type": "code",
      "source": [
        "# Used to extract tweets (DO NOT RUN)\n",
        "search_words = 'pink sauce'\n",
        "date_since = \"2022-07-17\"\n",
        "\n",
        "search_with_filter = search_words + \" -filter:retweets\"\n",
        "\n",
        "tweets = tw.Cursor(api.search,\n",
        "                       q=search_with_filter,\n",
        "                       lang=\"en\",\n",
        "                       since=date_since,\n",
        "                       result_type = 'recent').items(1000)\n",
        "# a = []\n",
        "# for tweet in tweets:\n",
        "#   tweet.text = re.sub('@[\\w]+','',tweet.text)\n",
        "#   a.append(tweet.text)\n",
        "a = [tweet.text for tweet in tweets]\n",
        "# print(a)"
      ],
      "metadata": {
        "id": "Yw_quNE-D_xu"
      },
      "execution_count": null,
      "outputs": []
    },
    {
      "cell_type": "code",
      "source": [
        "# Used to create dataframe from tweets (DO NOT RUN)\n",
        "import pandas as pd\n",
        "tweet_text = pd.DataFrame(a, columns = ['tweet'])\n",
        "\n",
        "print(tweet_text.shape)"
      ],
      "metadata": {
        "id": "_yW_SfQ1_-YS",
        "colab": {
          "base_uri": "https://localhost:8080/"
        },
        "outputId": "d7b05df7-b18f-4ad1-8efc-b4461409e86f"
      },
      "execution_count": null,
      "outputs": [
        {
          "output_type": "stream",
          "name": "stdout",
          "text": [
            "(1000, 1)\n"
          ]
        }
      ]
    },
    {
      "cell_type": "code",
      "source": [
        "# Used to label tweets (DO NOT RUN)\n",
        "import nltk\n",
        "from nltk.sentiment.vader import SentimentIntensityAnalyzer\n",
        "nltk.download(\"vader_lexicon\")\n",
        "data = tweet_text.dropna()\n",
        "print(data.head())\n",
        "print(data.shape)"
      ],
      "metadata": {
        "id": "Z4FWeaOHAeux",
        "colab": {
          "base_uri": "https://localhost:8080/"
        },
        "outputId": "cfe85f8c-4d4e-4a36-ba18-c2ba59ba5e72"
      },
      "execution_count": null,
      "outputs": [
        {
          "output_type": "stream",
          "name": "stdout",
          "text": [
            "                                               tweet\n",
            "0  It’s pink, it’s popular, and potentially illeg...\n",
            "1  I keep hearing of this pink sauce that this la...\n",
            "2          the og pink sauce https://t.co/pkyWHF8Fyk\n",
            "3  I blame the youth.\\nWhere do you think the bur...\n",
            "4  A condiment so bizarre it has terms and condit...\n",
            "(1000, 1)\n"
          ]
        },
        {
          "output_type": "stream",
          "name": "stderr",
          "text": [
            "[nltk_data] Downloading package vader_lexicon to /root/nltk_data...\n",
            "[nltk_data]   Package vader_lexicon is already up-to-date!\n"
          ]
        }
      ]
    },
    {
      "cell_type": "code",
      "source": [
        "# Used to label tweets (DO NOT RUN)\n",
        "sentiments = SentimentIntensityAnalyzer()\n",
        "data[\"Positive\"] = [sentiments.polarity_scores(i)[\"pos\"] for i in data[\"tweet\"]]\n",
        "data[\"Negative\"] = [sentiments.polarity_scores(i)[\"neg\"] for i in data[\"tweet\"]]\n",
        "data[\"Neutral\"] = [sentiments.polarity_scores(i)[\"neu\"] for i in data[\"tweet\"]]\n",
        "data['Compound'] = [sentiments.polarity_scores(i)[\"compound\"] for i in data[\"tweet\"]]\n",
        "data.head()"
      ],
      "metadata": {
        "id": "whbKesZOAy6J",
        "colab": {
          "base_uri": "https://localhost:8080/",
          "height": 206
        },
        "outputId": "4e0ed74c-1006-4439-f1a7-e4622542f72c"
      },
      "execution_count": null,
      "outputs": [
        {
          "output_type": "execute_result",
          "data": {
            "text/plain": [
              "                                               tweet  Positive  Negative  \\\n",
              "0  It’s pink, it’s popular, and potentially illeg...     0.082     0.099   \n",
              "1  I keep hearing of this pink sauce that this la...     0.000     0.000   \n",
              "2          the og pink sauce https://t.co/pkyWHF8Fyk     0.000     0.000   \n",
              "3  I blame the youth.\\nWhere do you think the bur...     0.000     0.138   \n",
              "4  A condiment so bizarre it has terms and condit...     0.000     0.178   \n",
              "\n",
              "   Neutral  Compound  \n",
              "0    0.819   -0.1027  \n",
              "1    1.000    0.0000  \n",
              "2    1.000    0.0000  \n",
              "3    0.862   -0.3400  \n",
              "4    0.822   -0.3804  "
            ],
            "text/html": [
              "\n",
              "  <div id=\"df-0f4ebe3a-d663-4ec9-80bf-3dd2ec9a83b7\">\n",
              "    <div class=\"colab-df-container\">\n",
              "      <div>\n",
              "<style scoped>\n",
              "    .dataframe tbody tr th:only-of-type {\n",
              "        vertical-align: middle;\n",
              "    }\n",
              "\n",
              "    .dataframe tbody tr th {\n",
              "        vertical-align: top;\n",
              "    }\n",
              "\n",
              "    .dataframe thead th {\n",
              "        text-align: right;\n",
              "    }\n",
              "</style>\n",
              "<table border=\"1\" class=\"dataframe\">\n",
              "  <thead>\n",
              "    <tr style=\"text-align: right;\">\n",
              "      <th></th>\n",
              "      <th>tweet</th>\n",
              "      <th>Positive</th>\n",
              "      <th>Negative</th>\n",
              "      <th>Neutral</th>\n",
              "      <th>Compound</th>\n",
              "    </tr>\n",
              "  </thead>\n",
              "  <tbody>\n",
              "    <tr>\n",
              "      <th>0</th>\n",
              "      <td>It’s pink, it’s popular, and potentially illeg...</td>\n",
              "      <td>0.082</td>\n",
              "      <td>0.099</td>\n",
              "      <td>0.819</td>\n",
              "      <td>-0.1027</td>\n",
              "    </tr>\n",
              "    <tr>\n",
              "      <th>1</th>\n",
              "      <td>I keep hearing of this pink sauce that this la...</td>\n",
              "      <td>0.000</td>\n",
              "      <td>0.000</td>\n",
              "      <td>1.000</td>\n",
              "      <td>0.0000</td>\n",
              "    </tr>\n",
              "    <tr>\n",
              "      <th>2</th>\n",
              "      <td>the og pink sauce https://t.co/pkyWHF8Fyk</td>\n",
              "      <td>0.000</td>\n",
              "      <td>0.000</td>\n",
              "      <td>1.000</td>\n",
              "      <td>0.0000</td>\n",
              "    </tr>\n",
              "    <tr>\n",
              "      <th>3</th>\n",
              "      <td>I blame the youth.\\nWhere do you think the bur...</td>\n",
              "      <td>0.000</td>\n",
              "      <td>0.138</td>\n",
              "      <td>0.862</td>\n",
              "      <td>-0.3400</td>\n",
              "    </tr>\n",
              "    <tr>\n",
              "      <th>4</th>\n",
              "      <td>A condiment so bizarre it has terms and condit...</td>\n",
              "      <td>0.000</td>\n",
              "      <td>0.178</td>\n",
              "      <td>0.822</td>\n",
              "      <td>-0.3804</td>\n",
              "    </tr>\n",
              "  </tbody>\n",
              "</table>\n",
              "</div>\n",
              "      <button class=\"colab-df-convert\" onclick=\"convertToInteractive('df-0f4ebe3a-d663-4ec9-80bf-3dd2ec9a83b7')\"\n",
              "              title=\"Convert this dataframe to an interactive table.\"\n",
              "              style=\"display:none;\">\n",
              "        \n",
              "  <svg xmlns=\"http://www.w3.org/2000/svg\" height=\"24px\"viewBox=\"0 0 24 24\"\n",
              "       width=\"24px\">\n",
              "    <path d=\"M0 0h24v24H0V0z\" fill=\"none\"/>\n",
              "    <path d=\"M18.56 5.44l.94 2.06.94-2.06 2.06-.94-2.06-.94-.94-2.06-.94 2.06-2.06.94zm-11 1L8.5 8.5l.94-2.06 2.06-.94-2.06-.94L8.5 2.5l-.94 2.06-2.06.94zm10 10l.94 2.06.94-2.06 2.06-.94-2.06-.94-.94-2.06-.94 2.06-2.06.94z\"/><path d=\"M17.41 7.96l-1.37-1.37c-.4-.4-.92-.59-1.43-.59-.52 0-1.04.2-1.43.59L10.3 9.45l-7.72 7.72c-.78.78-.78 2.05 0 2.83L4 21.41c.39.39.9.59 1.41.59.51 0 1.02-.2 1.41-.59l7.78-7.78 2.81-2.81c.8-.78.8-2.07 0-2.86zM5.41 20L4 18.59l7.72-7.72 1.47 1.35L5.41 20z\"/>\n",
              "  </svg>\n",
              "      </button>\n",
              "      \n",
              "  <style>\n",
              "    .colab-df-container {\n",
              "      display:flex;\n",
              "      flex-wrap:wrap;\n",
              "      gap: 12px;\n",
              "    }\n",
              "\n",
              "    .colab-df-convert {\n",
              "      background-color: #E8F0FE;\n",
              "      border: none;\n",
              "      border-radius: 50%;\n",
              "      cursor: pointer;\n",
              "      display: none;\n",
              "      fill: #1967D2;\n",
              "      height: 32px;\n",
              "      padding: 0 0 0 0;\n",
              "      width: 32px;\n",
              "    }\n",
              "\n",
              "    .colab-df-convert:hover {\n",
              "      background-color: #E2EBFA;\n",
              "      box-shadow: 0px 1px 2px rgba(60, 64, 67, 0.3), 0px 1px 3px 1px rgba(60, 64, 67, 0.15);\n",
              "      fill: #174EA6;\n",
              "    }\n",
              "\n",
              "    [theme=dark] .colab-df-convert {\n",
              "      background-color: #3B4455;\n",
              "      fill: #D2E3FC;\n",
              "    }\n",
              "\n",
              "    [theme=dark] .colab-df-convert:hover {\n",
              "      background-color: #434B5C;\n",
              "      box-shadow: 0px 1px 3px 1px rgba(0, 0, 0, 0.15);\n",
              "      filter: drop-shadow(0px 1px 2px rgba(0, 0, 0, 0.3));\n",
              "      fill: #FFFFFF;\n",
              "    }\n",
              "  </style>\n",
              "\n",
              "      <script>\n",
              "        const buttonEl =\n",
              "          document.querySelector('#df-0f4ebe3a-d663-4ec9-80bf-3dd2ec9a83b7 button.colab-df-convert');\n",
              "        buttonEl.style.display =\n",
              "          google.colab.kernel.accessAllowed ? 'block' : 'none';\n",
              "\n",
              "        async function convertToInteractive(key) {\n",
              "          const element = document.querySelector('#df-0f4ebe3a-d663-4ec9-80bf-3dd2ec9a83b7');\n",
              "          const dataTable =\n",
              "            await google.colab.kernel.invokeFunction('convertToInteractive',\n",
              "                                                     [key], {});\n",
              "          if (!dataTable) return;\n",
              "\n",
              "          const docLinkHtml = 'Like what you see? Visit the ' +\n",
              "            '<a target=\"_blank\" href=https://colab.research.google.com/notebooks/data_table.ipynb>data table notebook</a>'\n",
              "            + ' to learn more about interactive tables.';\n",
              "          element.innerHTML = '';\n",
              "          dataTable['output_type'] = 'display_data';\n",
              "          await google.colab.output.renderOutput(dataTable, element);\n",
              "          const docLink = document.createElement('div');\n",
              "          docLink.innerHTML = docLinkHtml;\n",
              "          element.appendChild(docLink);\n",
              "        }\n",
              "      </script>\n",
              "    </div>\n",
              "  </div>\n",
              "  "
            ]
          },
          "metadata": {},
          "execution_count": 198
        }
      ]
    },
    {
      "cell_type": "code",
      "source": [
        "# Used to label tweets (DO NOT RUN)\n",
        "score = data[\"Compound\"].values\n",
        "sentiment = []\n",
        "for i in score:\n",
        "    if i >= 0.05 :\n",
        "        sentiment.append(2)\n",
        "    elif i <= -0.05 :\n",
        "        sentiment.append(0)\n",
        "    else:\n",
        "        sentiment.append(1)\n",
        "data[\"Sentiment\"] = sentiment\n",
        "data.head()"
      ],
      "metadata": {
        "id": "LvNaPMndA8wC",
        "colab": {
          "base_uri": "https://localhost:8080/",
          "height": 206
        },
        "outputId": "80f32106-3f8d-4748-f466-e956fae9c52c"
      },
      "execution_count": null,
      "outputs": [
        {
          "output_type": "execute_result",
          "data": {
            "text/plain": [
              "                                               tweet  Positive  Negative  \\\n",
              "0  It’s pink, it’s popular, and potentially illeg...     0.082     0.099   \n",
              "1  I keep hearing of this pink sauce that this la...     0.000     0.000   \n",
              "2          the og pink sauce https://t.co/pkyWHF8Fyk     0.000     0.000   \n",
              "3  I blame the youth.\\nWhere do you think the bur...     0.000     0.138   \n",
              "4  A condiment so bizarre it has terms and condit...     0.000     0.178   \n",
              "\n",
              "   Neutral  Compound  Sentiment  \n",
              "0    0.819   -0.1027          0  \n",
              "1    1.000    0.0000          1  \n",
              "2    1.000    0.0000          1  \n",
              "3    0.862   -0.3400          0  \n",
              "4    0.822   -0.3804          0  "
            ],
            "text/html": [
              "\n",
              "  <div id=\"df-44c9a5b7-1157-4ff5-a757-7869f71bd3d3\">\n",
              "    <div class=\"colab-df-container\">\n",
              "      <div>\n",
              "<style scoped>\n",
              "    .dataframe tbody tr th:only-of-type {\n",
              "        vertical-align: middle;\n",
              "    }\n",
              "\n",
              "    .dataframe tbody tr th {\n",
              "        vertical-align: top;\n",
              "    }\n",
              "\n",
              "    .dataframe thead th {\n",
              "        text-align: right;\n",
              "    }\n",
              "</style>\n",
              "<table border=\"1\" class=\"dataframe\">\n",
              "  <thead>\n",
              "    <tr style=\"text-align: right;\">\n",
              "      <th></th>\n",
              "      <th>tweet</th>\n",
              "      <th>Positive</th>\n",
              "      <th>Negative</th>\n",
              "      <th>Neutral</th>\n",
              "      <th>Compound</th>\n",
              "      <th>Sentiment</th>\n",
              "    </tr>\n",
              "  </thead>\n",
              "  <tbody>\n",
              "    <tr>\n",
              "      <th>0</th>\n",
              "      <td>It’s pink, it’s popular, and potentially illeg...</td>\n",
              "      <td>0.082</td>\n",
              "      <td>0.099</td>\n",
              "      <td>0.819</td>\n",
              "      <td>-0.1027</td>\n",
              "      <td>0</td>\n",
              "    </tr>\n",
              "    <tr>\n",
              "      <th>1</th>\n",
              "      <td>I keep hearing of this pink sauce that this la...</td>\n",
              "      <td>0.000</td>\n",
              "      <td>0.000</td>\n",
              "      <td>1.000</td>\n",
              "      <td>0.0000</td>\n",
              "      <td>1</td>\n",
              "    </tr>\n",
              "    <tr>\n",
              "      <th>2</th>\n",
              "      <td>the og pink sauce https://t.co/pkyWHF8Fyk</td>\n",
              "      <td>0.000</td>\n",
              "      <td>0.000</td>\n",
              "      <td>1.000</td>\n",
              "      <td>0.0000</td>\n",
              "      <td>1</td>\n",
              "    </tr>\n",
              "    <tr>\n",
              "      <th>3</th>\n",
              "      <td>I blame the youth.\\nWhere do you think the bur...</td>\n",
              "      <td>0.000</td>\n",
              "      <td>0.138</td>\n",
              "      <td>0.862</td>\n",
              "      <td>-0.3400</td>\n",
              "      <td>0</td>\n",
              "    </tr>\n",
              "    <tr>\n",
              "      <th>4</th>\n",
              "      <td>A condiment so bizarre it has terms and condit...</td>\n",
              "      <td>0.000</td>\n",
              "      <td>0.178</td>\n",
              "      <td>0.822</td>\n",
              "      <td>-0.3804</td>\n",
              "      <td>0</td>\n",
              "    </tr>\n",
              "  </tbody>\n",
              "</table>\n",
              "</div>\n",
              "      <button class=\"colab-df-convert\" onclick=\"convertToInteractive('df-44c9a5b7-1157-4ff5-a757-7869f71bd3d3')\"\n",
              "              title=\"Convert this dataframe to an interactive table.\"\n",
              "              style=\"display:none;\">\n",
              "        \n",
              "  <svg xmlns=\"http://www.w3.org/2000/svg\" height=\"24px\"viewBox=\"0 0 24 24\"\n",
              "       width=\"24px\">\n",
              "    <path d=\"M0 0h24v24H0V0z\" fill=\"none\"/>\n",
              "    <path d=\"M18.56 5.44l.94 2.06.94-2.06 2.06-.94-2.06-.94-.94-2.06-.94 2.06-2.06.94zm-11 1L8.5 8.5l.94-2.06 2.06-.94-2.06-.94L8.5 2.5l-.94 2.06-2.06.94zm10 10l.94 2.06.94-2.06 2.06-.94-2.06-.94-.94-2.06-.94 2.06-2.06.94z\"/><path d=\"M17.41 7.96l-1.37-1.37c-.4-.4-.92-.59-1.43-.59-.52 0-1.04.2-1.43.59L10.3 9.45l-7.72 7.72c-.78.78-.78 2.05 0 2.83L4 21.41c.39.39.9.59 1.41.59.51 0 1.02-.2 1.41-.59l7.78-7.78 2.81-2.81c.8-.78.8-2.07 0-2.86zM5.41 20L4 18.59l7.72-7.72 1.47 1.35L5.41 20z\"/>\n",
              "  </svg>\n",
              "      </button>\n",
              "      \n",
              "  <style>\n",
              "    .colab-df-container {\n",
              "      display:flex;\n",
              "      flex-wrap:wrap;\n",
              "      gap: 12px;\n",
              "    }\n",
              "\n",
              "    .colab-df-convert {\n",
              "      background-color: #E8F0FE;\n",
              "      border: none;\n",
              "      border-radius: 50%;\n",
              "      cursor: pointer;\n",
              "      display: none;\n",
              "      fill: #1967D2;\n",
              "      height: 32px;\n",
              "      padding: 0 0 0 0;\n",
              "      width: 32px;\n",
              "    }\n",
              "\n",
              "    .colab-df-convert:hover {\n",
              "      background-color: #E2EBFA;\n",
              "      box-shadow: 0px 1px 2px rgba(60, 64, 67, 0.3), 0px 1px 3px 1px rgba(60, 64, 67, 0.15);\n",
              "      fill: #174EA6;\n",
              "    }\n",
              "\n",
              "    [theme=dark] .colab-df-convert {\n",
              "      background-color: #3B4455;\n",
              "      fill: #D2E3FC;\n",
              "    }\n",
              "\n",
              "    [theme=dark] .colab-df-convert:hover {\n",
              "      background-color: #434B5C;\n",
              "      box-shadow: 0px 1px 3px 1px rgba(0, 0, 0, 0.15);\n",
              "      filter: drop-shadow(0px 1px 2px rgba(0, 0, 0, 0.3));\n",
              "      fill: #FFFFFF;\n",
              "    }\n",
              "  </style>\n",
              "\n",
              "      <script>\n",
              "        const buttonEl =\n",
              "          document.querySelector('#df-44c9a5b7-1157-4ff5-a757-7869f71bd3d3 button.colab-df-convert');\n",
              "        buttonEl.style.display =\n",
              "          google.colab.kernel.accessAllowed ? 'block' : 'none';\n",
              "\n",
              "        async function convertToInteractive(key) {\n",
              "          const element = document.querySelector('#df-44c9a5b7-1157-4ff5-a757-7869f71bd3d3');\n",
              "          const dataTable =\n",
              "            await google.colab.kernel.invokeFunction('convertToInteractive',\n",
              "                                                     [key], {});\n",
              "          if (!dataTable) return;\n",
              "\n",
              "          const docLinkHtml = 'Like what you see? Visit the ' +\n",
              "            '<a target=\"_blank\" href=https://colab.research.google.com/notebooks/data_table.ipynb>data table notebook</a>'\n",
              "            + ' to learn more about interactive tables.';\n",
              "          element.innerHTML = '';\n",
              "          dataTable['output_type'] = 'display_data';\n",
              "          await google.colab.output.renderOutput(dataTable, element);\n",
              "          const docLink = document.createElement('div');\n",
              "          docLink.innerHTML = docLinkHtml;\n",
              "          element.appendChild(docLink);\n",
              "        }\n",
              "      </script>\n",
              "    </div>\n",
              "  </div>\n",
              "  "
            ]
          },
          "metadata": {},
          "execution_count": 199
        }
      ]
    },
    {
      "cell_type": "code",
      "source": [
        "# Used to label tweets (DO NOT RUN)\n",
        "data = data.drop(['Positive', 'Negative', 'Neutral', 'Compound'], axis = 1)\n",
        "data.rename(columns = {'tweet':'OriginalTweet'}, inplace = True)\n",
        "data.head()"
      ],
      "metadata": {
        "id": "36dcy9ehA_jR",
        "colab": {
          "base_uri": "https://localhost:8080/",
          "height": 206
        },
        "outputId": "751c4ae5-1805-4789-dc6e-381e94344065"
      },
      "execution_count": null,
      "outputs": [
        {
          "output_type": "execute_result",
          "data": {
            "text/plain": [
              "                                       OriginalTweet  Sentiment\n",
              "0  It’s pink, it’s popular, and potentially illeg...          0\n",
              "1  I keep hearing of this pink sauce that this la...          1\n",
              "2          the og pink sauce https://t.co/pkyWHF8Fyk          1\n",
              "3  I blame the youth.\\nWhere do you think the bur...          0\n",
              "4  A condiment so bizarre it has terms and condit...          0"
            ],
            "text/html": [
              "\n",
              "  <div id=\"df-2ff7829e-5c4a-4a73-aff2-e34123fe6e8c\">\n",
              "    <div class=\"colab-df-container\">\n",
              "      <div>\n",
              "<style scoped>\n",
              "    .dataframe tbody tr th:only-of-type {\n",
              "        vertical-align: middle;\n",
              "    }\n",
              "\n",
              "    .dataframe tbody tr th {\n",
              "        vertical-align: top;\n",
              "    }\n",
              "\n",
              "    .dataframe thead th {\n",
              "        text-align: right;\n",
              "    }\n",
              "</style>\n",
              "<table border=\"1\" class=\"dataframe\">\n",
              "  <thead>\n",
              "    <tr style=\"text-align: right;\">\n",
              "      <th></th>\n",
              "      <th>OriginalTweet</th>\n",
              "      <th>Sentiment</th>\n",
              "    </tr>\n",
              "  </thead>\n",
              "  <tbody>\n",
              "    <tr>\n",
              "      <th>0</th>\n",
              "      <td>It’s pink, it’s popular, and potentially illeg...</td>\n",
              "      <td>0</td>\n",
              "    </tr>\n",
              "    <tr>\n",
              "      <th>1</th>\n",
              "      <td>I keep hearing of this pink sauce that this la...</td>\n",
              "      <td>1</td>\n",
              "    </tr>\n",
              "    <tr>\n",
              "      <th>2</th>\n",
              "      <td>the og pink sauce https://t.co/pkyWHF8Fyk</td>\n",
              "      <td>1</td>\n",
              "    </tr>\n",
              "    <tr>\n",
              "      <th>3</th>\n",
              "      <td>I blame the youth.\\nWhere do you think the bur...</td>\n",
              "      <td>0</td>\n",
              "    </tr>\n",
              "    <tr>\n",
              "      <th>4</th>\n",
              "      <td>A condiment so bizarre it has terms and condit...</td>\n",
              "      <td>0</td>\n",
              "    </tr>\n",
              "  </tbody>\n",
              "</table>\n",
              "</div>\n",
              "      <button class=\"colab-df-convert\" onclick=\"convertToInteractive('df-2ff7829e-5c4a-4a73-aff2-e34123fe6e8c')\"\n",
              "              title=\"Convert this dataframe to an interactive table.\"\n",
              "              style=\"display:none;\">\n",
              "        \n",
              "  <svg xmlns=\"http://www.w3.org/2000/svg\" height=\"24px\"viewBox=\"0 0 24 24\"\n",
              "       width=\"24px\">\n",
              "    <path d=\"M0 0h24v24H0V0z\" fill=\"none\"/>\n",
              "    <path d=\"M18.56 5.44l.94 2.06.94-2.06 2.06-.94-2.06-.94-.94-2.06-.94 2.06-2.06.94zm-11 1L8.5 8.5l.94-2.06 2.06-.94-2.06-.94L8.5 2.5l-.94 2.06-2.06.94zm10 10l.94 2.06.94-2.06 2.06-.94-2.06-.94-.94-2.06-.94 2.06-2.06.94z\"/><path d=\"M17.41 7.96l-1.37-1.37c-.4-.4-.92-.59-1.43-.59-.52 0-1.04.2-1.43.59L10.3 9.45l-7.72 7.72c-.78.78-.78 2.05 0 2.83L4 21.41c.39.39.9.59 1.41.59.51 0 1.02-.2 1.41-.59l7.78-7.78 2.81-2.81c.8-.78.8-2.07 0-2.86zM5.41 20L4 18.59l7.72-7.72 1.47 1.35L5.41 20z\"/>\n",
              "  </svg>\n",
              "      </button>\n",
              "      \n",
              "  <style>\n",
              "    .colab-df-container {\n",
              "      display:flex;\n",
              "      flex-wrap:wrap;\n",
              "      gap: 12px;\n",
              "    }\n",
              "\n",
              "    .colab-df-convert {\n",
              "      background-color: #E8F0FE;\n",
              "      border: none;\n",
              "      border-radius: 50%;\n",
              "      cursor: pointer;\n",
              "      display: none;\n",
              "      fill: #1967D2;\n",
              "      height: 32px;\n",
              "      padding: 0 0 0 0;\n",
              "      width: 32px;\n",
              "    }\n",
              "\n",
              "    .colab-df-convert:hover {\n",
              "      background-color: #E2EBFA;\n",
              "      box-shadow: 0px 1px 2px rgba(60, 64, 67, 0.3), 0px 1px 3px 1px rgba(60, 64, 67, 0.15);\n",
              "      fill: #174EA6;\n",
              "    }\n",
              "\n",
              "    [theme=dark] .colab-df-convert {\n",
              "      background-color: #3B4455;\n",
              "      fill: #D2E3FC;\n",
              "    }\n",
              "\n",
              "    [theme=dark] .colab-df-convert:hover {\n",
              "      background-color: #434B5C;\n",
              "      box-shadow: 0px 1px 3px 1px rgba(0, 0, 0, 0.15);\n",
              "      filter: drop-shadow(0px 1px 2px rgba(0, 0, 0, 0.3));\n",
              "      fill: #FFFFFF;\n",
              "    }\n",
              "  </style>\n",
              "\n",
              "      <script>\n",
              "        const buttonEl =\n",
              "          document.querySelector('#df-2ff7829e-5c4a-4a73-aff2-e34123fe6e8c button.colab-df-convert');\n",
              "        buttonEl.style.display =\n",
              "          google.colab.kernel.accessAllowed ? 'block' : 'none';\n",
              "\n",
              "        async function convertToInteractive(key) {\n",
              "          const element = document.querySelector('#df-2ff7829e-5c4a-4a73-aff2-e34123fe6e8c');\n",
              "          const dataTable =\n",
              "            await google.colab.kernel.invokeFunction('convertToInteractive',\n",
              "                                                     [key], {});\n",
              "          if (!dataTable) return;\n",
              "\n",
              "          const docLinkHtml = 'Like what you see? Visit the ' +\n",
              "            '<a target=\"_blank\" href=https://colab.research.google.com/notebooks/data_table.ipynb>data table notebook</a>'\n",
              "            + ' to learn more about interactive tables.';\n",
              "          element.innerHTML = '';\n",
              "          dataTable['output_type'] = 'display_data';\n",
              "          await google.colab.output.renderOutput(dataTable, element);\n",
              "          const docLink = document.createElement('div');\n",
              "          docLink.innerHTML = docLinkHtml;\n",
              "          element.appendChild(docLink);\n",
              "        }\n",
              "      </script>\n",
              "    </div>\n",
              "  </div>\n",
              "  "
            ]
          },
          "metadata": {},
          "execution_count": 200
        }
      ]
    },
    {
      "cell_type": "code",
      "source": [
        "# Used to download the tweet data (DO NOT RUN)\n",
        "from google.colab import drive\n",
        "drive.mount(\"drive\", force_remount=True)\n",
        "\n",
        "data.to_csv('/content/drive/My Drive/tweets-data-final.csv', encoding='utf-8')"
      ],
      "metadata": {
        "id": "KWld3TIP_enn",
        "colab": {
          "base_uri": "https://localhost:8080/"
        },
        "outputId": "4def6e88-dc15-4e6e-8e65-1ef2be9d4257"
      },
      "execution_count": null,
      "outputs": [
        {
          "output_type": "stream",
          "name": "stdout",
          "text": [
            "Mounted at drive\n"
          ]
        }
      ]
    },
    {
      "cell_type": "code",
      "source": [
        "# Uploading the training dataset (Upload the tweets-data-final.csv here)\n",
        "uploaded = files.upload()"
      ],
      "metadata": {
        "id": "OCf10Y3Oiiry"
      },
      "execution_count": null,
      "outputs": []
    },
    {
      "cell_type": "code",
      "source": [
        "# Creating the dataframe\n",
        "data = pd.read_csv(io.BytesIO(uploaded['tweets-data-final.csv']), sep = ',')"
      ],
      "metadata": {
        "id": "7Ltkm5hXiscw"
      },
      "execution_count": null,
      "outputs": []
    },
    {
      "cell_type": "code",
      "source": [
        "# Proportion of each class\n",
        "print(data[\"Sentiment\"].value_counts())"
      ],
      "metadata": {
        "id": "MjOOK1a0CWX5",
        "colab": {
          "base_uri": "https://localhost:8080/"
        },
        "outputId": "4ddec2c0-3d0e-4d5b-a847-5c1b2e12c077"
      },
      "execution_count": null,
      "outputs": [
        {
          "output_type": "stream",
          "name": "stdout",
          "text": [
            "1    483\n",
            "2    260\n",
            "0    257\n",
            "Name: Sentiment, dtype: int64\n"
          ]
        }
      ]
    },
    {
      "cell_type": "markdown",
      "source": [
        "The proportion of Negative values are 25.7%, Neutral values are 48.3%, and\n",
        "Positive values are 26%."
      ],
      "metadata": {
        "id": "XbmV4udCCYCB"
      }
    },
    {
      "cell_type": "code",
      "source": [
        "# Visualizing the balance between the classes in the form of a pie chart\n",
        "counts_0 = len(data[data['Sentiment'] == 0])\n",
        "counts_1 = len(data[data['Sentiment'] == 1])\n",
        "counts_2 = len(data[data['Sentiment'] == 2])\n",
        "y = np.array([counts_0, counts_1, counts_2])\n",
        "mylabels = [\"Negative\", \"Neutral\", \"Positive\"]\n",
        "\n",
        "plt.pie(y, labels = mylabels)\n",
        "plt.show()"
      ],
      "metadata": {
        "id": "YoryOmN-eWb1",
        "colab": {
          "base_uri": "https://localhost:8080/",
          "height": 248
        },
        "outputId": "23caa5b7-7e5d-443e-c471-900a94b7b43e"
      },
      "execution_count": null,
      "outputs": [
        {
          "output_type": "display_data",
          "data": {
            "text/plain": [
              "<Figure size 432x288 with 1 Axes>"
            ],
            "image/png": "[encoded data removed]"
          },
          "metadata": {}
        }
      ]
    },
    {
      "cell_type": "code",
      "source": [
        "# Visualizing the balance between the classes in the form of a bar graph\n",
        "fig = plt.figure()\n",
        "ax = fig.add_axes([0,0,1,1])\n",
        "y = np.array([counts_0, counts_1, counts_2])\n",
        "mylabels = [\"Negative\", \"Neutral\", \"Positive\"]\n",
        "ax.bar(mylabels,y)\n",
        "ax.set_ylabel('Count')\n",
        "ax.set_xlabel('Sentiment')\n",
        "ax.set_title('Balance between the three classes of Sentiment')\n",
        "plt.show()"
      ],
      "metadata": {
        "id": "vRCqROXyewkR",
        "colab": {
          "base_uri": "https://localhost:8080/",
          "height": 366
        },
        "outputId": "b29c0b78-8286-4c14-9a9d-dd89c6416d69"
      },
      "execution_count": null,
      "outputs": [
        {
          "output_type": "display_data",
          "data": {
            "text/plain": [
              "<Figure size 432x288 with 1 Axes>"
            ],
            "image/png": "[encoded data removed]"
          },
          "metadata": {
            "needs_background": "light"
          }
        }
      ]
    },
    {
      "cell_type": "code",
      "source": [
        "# Basic Summary statistics of the data\n",
        "data.describe()"
      ],
      "metadata": {
        "id": "dmCMAfn1FiSM",
        "colab": {
          "base_uri": "https://localhost:8080/",
          "height": 300
        },
        "outputId": "2cadad75-6c15-42a4-8710-658933c313fc"
      },
      "execution_count": null,
      "outputs": [
        {
          "output_type": "execute_result",
          "data": {
            "text/plain": [
              "         Sentiment\n",
              "count  1000.000000\n",
              "mean      1.003000\n",
              "std       0.719381\n",
              "min       0.000000\n",
              "25%       0.000000\n",
              "50%       1.000000\n",
              "75%       2.000000\n",
              "max       2.000000"
            ],
            "text/html": [
              "\n",
              "  <div id=\"df-b4c321c9-c23a-4c65-b575-ee04e1b9c077\">\n",
              "    <div class=\"colab-df-container\">\n",
              "      <div>\n",
              "<style scoped>\n",
              "    .dataframe tbody tr th:only-of-type {\n",
              "        vertical-align: middle;\n",
              "    }\n",
              "\n",
              "    .dataframe tbody tr th {\n",
              "        vertical-align: top;\n",
              "    }\n",
              "\n",
              "    .dataframe thead th {\n",
              "        text-align: right;\n",
              "    }\n",
              "</style>\n",
              "<table border=\"1\" class=\"dataframe\">\n",
              "  <thead>\n",
              "    <tr style=\"text-align: right;\">\n",
              "      <th></th>\n",
              "      <th>Sentiment</th>\n",
              "    </tr>\n",
              "  </thead>\n",
              "  <tbody>\n",
              "    <tr>\n",
              "      <th>count</th>\n",
              "      <td>1000.000000</td>\n",
              "    </tr>\n",
              "    <tr>\n",
              "      <th>mean</th>\n",
              "      <td>1.003000</td>\n",
              "    </tr>\n",
              "    <tr>\n",
              "      <th>std</th>\n",
              "      <td>0.719381</td>\n",
              "    </tr>\n",
              "    <tr>\n",
              "      <th>min</th>\n",
              "      <td>0.000000</td>\n",
              "    </tr>\n",
              "    <tr>\n",
              "      <th>25%</th>\n",
              "      <td>0.000000</td>\n",
              "    </tr>\n",
              "    <tr>\n",
              "      <th>50%</th>\n",
              "      <td>1.000000</td>\n",
              "    </tr>\n",
              "    <tr>\n",
              "      <th>75%</th>\n",
              "      <td>2.000000</td>\n",
              "    </tr>\n",
              "    <tr>\n",
              "      <th>max</th>\n",
              "      <td>2.000000</td>\n",
              "    </tr>\n",
              "  </tbody>\n",
              "</table>\n",
              "</div>\n",
              "      <button class=\"colab-df-convert\" onclick=\"convertToInteractive('df-b4c321c9-c23a-4c65-b575-ee04e1b9c077')\"\n",
              "              title=\"Convert this dataframe to an interactive table.\"\n",
              "              style=\"display:none;\">\n",
              "        \n",
              "  <svg xmlns=\"http://www.w3.org/2000/svg\" height=\"24px\"viewBox=\"0 0 24 24\"\n",
              "       width=\"24px\">\n",
              "    <path d=\"M0 0h24v24H0V0z\" fill=\"none\"/>\n",
              "    <path d=\"M18.56 5.44l.94 2.06.94-2.06 2.06-.94-2.06-.94-.94-2.06-.94 2.06-2.06.94zm-11 1L8.5 8.5l.94-2.06 2.06-.94-2.06-.94L8.5 2.5l-.94 2.06-2.06.94zm10 10l.94 2.06.94-2.06 2.06-.94-2.06-.94-.94-2.06-.94 2.06-2.06.94z\"/><path d=\"M17.41 7.96l-1.37-1.37c-.4-.4-.92-.59-1.43-.59-.52 0-1.04.2-1.43.59L10.3 9.45l-7.72 7.72c-.78.78-.78 2.05 0 2.83L4 21.41c.39.39.9.59 1.41.59.51 0 1.02-.2 1.41-.59l7.78-7.78 2.81-2.81c.8-.78.8-2.07 0-2.86zM5.41 20L4 18.59l7.72-7.72 1.47 1.35L5.41 20z\"/>\n",
              "  </svg>\n",
              "      </button>\n",
              "      \n",
              "  <style>\n",
              "    .colab-df-container {\n",
              "      display:flex;\n",
              "      flex-wrap:wrap;\n",
              "      gap: 12px;\n",
              "    }\n",
              "\n",
              "    .colab-df-convert {\n",
              "      background-color: #E8F0FE;\n",
              "      border: none;\n",
              "      border-radius: 50%;\n",
              "      cursor: pointer;\n",
              "      display: none;\n",
              "      fill: #1967D2;\n",
              "      height: 32px;\n",
              "      padding: 0 0 0 0;\n",
              "      width: 32px;\n",
              "    }\n",
              "\n",
              "    .colab-df-convert:hover {\n",
              "      background-color: #E2EBFA;\n",
              "      box-shadow: 0px 1px 2px rgba(60, 64, 67, 0.3), 0px 1px 3px 1px rgba(60, 64, 67, 0.15);\n",
              "      fill: #174EA6;\n",
              "    }\n",
              "\n",
              "    [theme=dark] .colab-df-convert {\n",
              "      background-color: #3B4455;\n",
              "      fill: #D2E3FC;\n",
              "    }\n",
              "\n",
              "    [theme=dark] .colab-df-convert:hover {\n",
              "      background-color: #434B5C;\n",
              "      box-shadow: 0px 1px 3px 1px rgba(0, 0, 0, 0.15);\n",
              "      filter: drop-shadow(0px 1px 2px rgba(0, 0, 0, 0.3));\n",
              "      fill: #FFFFFF;\n",
              "    }\n",
              "  </style>\n",
              "\n",
              "      <script>\n",
              "        const buttonEl =\n",
              "          document.querySelector('#df-b4c321c9-c23a-4c65-b575-ee04e1b9c077 button.colab-df-convert');\n",
              "        buttonEl.style.display =\n",
              "          google.colab.kernel.accessAllowed ? 'block' : 'none';\n",
              "\n",
              "        async function convertToInteractive(key) {\n",
              "          const element = document.querySelector('#df-b4c321c9-c23a-4c65-b575-ee04e1b9c077');\n",
              "          const dataTable =\n",
              "            await google.colab.kernel.invokeFunction('convertToInteractive',\n",
              "                                                     [key], {});\n",
              "          if (!dataTable) return;\n",
              "\n",
              "          const docLinkHtml = 'Like what you see? Visit the ' +\n",
              "            '<a target=\"_blank\" href=https://colab.research.google.com/notebooks/data_table.ipynb>data table notebook</a>'\n",
              "            + ' to learn more about interactive tables.';\n",
              "          element.innerHTML = '';\n",
              "          dataTable['output_type'] = 'display_data';\n",
              "          await google.colab.output.renderOutput(dataTable, element);\n",
              "          const docLink = document.createElement('div');\n",
              "          docLink.innerHTML = docLinkHtml;\n",
              "          element.appendChild(docLink);\n",
              "        }\n",
              "      </script>\n",
              "    </div>\n",
              "  </div>\n",
              "  "
            ]
          },
          "metadata": {},
          "execution_count": 205
        }
      ]
    },
    {
      "cell_type": "code",
      "source": [
        "# Tokenizing the data\n",
        "tokenize_tweets(data)"
      ],
      "metadata": {
        "id": "qKAOFWV4Ck-4",
        "colab": {
          "base_uri": "https://localhost:8080/"
        },
        "outputId": "adf5b0e8-3978-424e-d76d-950499c5e647"
      },
      "execution_count": null,
      "outputs": [
        {
          "output_type": "stream",
          "name": "stdout",
          "text": [
            "0    [It, ’, s, pink, ,, it, ’, s, popular, ,, and,...\n",
            "1    [I, keep, hearing, of, this, pink, sauce, that...\n",
            "2    [the, og, pink, sauce, https, :, //t.co/pkyWHF...\n",
            "3    [I, blame, the, youth, ., Where, do, you, thin...\n",
            "4    [A, condiment, so, bizarre, it, has, terms, an...\n",
            "Name: tokens, dtype: object\n"
          ]
        }
      ]
    },
    {
      "cell_type": "code",
      "source": [
        "# Removing URL tokens\n",
        "remove_url(data)"
      ],
      "metadata": {
        "id": "v5nde5r8D5qt",
        "colab": {
          "base_uri": "https://localhost:8080/"
        },
        "outputId": "80e9fc0b-1a8d-4f4f-b7e5-96a3f4439a43"
      },
      "execution_count": null,
      "outputs": [
        {
          "output_type": "stream",
          "name": "stdout",
          "text": [
            "0    [It, ’, s, pink, ,, it, ’, s, popular, ,, and,...\n",
            "1    [I, keep, hearing, of, this, pink, sauce, that...\n",
            "2       [the, og, pink, sauce, , :, //t.co/pkyWHF8Fyk]\n",
            "3    [I, blame, the, youth, ., Where, do, you, thin...\n",
            "4    [A, condiment, so, bizarre, it, has, terms, an...\n",
            "Name: tokens_no_punct, dtype: object\n"
          ]
        }
      ]
    },
    {
      "cell_type": "code",
      "source": [
        "# Making the tokens lowercase\n",
        "token_lower(data)"
      ],
      "metadata": {
        "id": "VbLD8onfEJLq",
        "colab": {
          "base_uri": "https://localhost:8080/"
        },
        "outputId": "fe967155-6e26-4d02-cc83-db72bf833c26"
      },
      "execution_count": null,
      "outputs": [
        {
          "output_type": "stream",
          "name": "stdout",
          "text": [
            "0    [it, ’, s, pink, ,, it, ’, s, popular, ,, and,...\n",
            "1    [i, keep, hearing, of, this, pink, sauce, that...\n",
            "2       [the, og, pink, sauce, , :, //t.co/pkywhf8fyk]\n",
            "3    [i, blame, the, youth, ., where, do, you, thin...\n",
            "4    [a, condiment, so, bizarre, it, has, terms, an...\n",
            "Name: lowercase_tokens, dtype: object\n"
          ]
        }
      ]
    },
    {
      "cell_type": "code",
      "source": [
        "# Removing punctuation and special characters\n",
        "remove_punct(data)"
      ],
      "metadata": {
        "id": "WAwDGpF0EZ8G",
        "colab": {
          "base_uri": "https://localhost:8080/"
        },
        "outputId": "bd81b40d-1334-4cc9-cdd6-c1c263309e74"
      },
      "execution_count": null,
      "outputs": [
        {
          "output_type": "stream",
          "name": "stdout",
          "text": [
            "0    [it, , s, pink, , it, , s, popular, , and, pot...\n",
            "1    [i, keep, hearing, of, this, pink, sauce, that...\n",
            "2            [the, og, pink, sauce, , , tcopkywhf8fyk]\n",
            "3    [i, blame, the, youth, , where, do, you, think...\n",
            "4    [a, condiment, so, bizarre, it, has, terms, an...\n",
            "Name: tokens_no_punct, dtype: object\n"
          ]
        }
      ]
    },
    {
      "cell_type": "code",
      "source": [
        "# Lemmatizing the tokens\n",
        "lemming(data)"
      ],
      "metadata": {
        "id": "bXEwk2WKE8Dv",
        "colab": {
          "base_uri": "https://localhost:8080/"
        },
        "outputId": "ac4be715-8929-409e-cb40-f970b7dbc061"
      },
      "execution_count": null,
      "outputs": [
        {
          "output_type": "stream",
          "name": "stdout",
          "text": [
            "0    [it, , s, pink, , it, , s, popular, , and, pot...\n",
            "1    [i, keep, hearing, of, this, pink, sauce, that...\n",
            "2            [the, og, pink, sauce, , , tcopkywhf8fyk]\n",
            "3    [i, blame, the, youth, , where, do, you, think...\n",
            "4    [a, condiment, so, bizarre, it, ha, term, and,...\n",
            "Name: lem_tokens, dtype: object\n"
          ]
        },
        {
          "output_type": "stream",
          "name": "stderr",
          "text": [
            "[nltk_data] Downloading package omw-1.4 to /root/nltk_data...\n",
            "[nltk_data]   Package omw-1.4 is already up-to-date!\n",
            "[nltk_data] Downloading package wordnet to /root/nltk_data...\n",
            "[nltk_data]   Package wordnet is already up-to-date!\n"
          ]
        }
      ]
    },
    {
      "cell_type": "code",
      "source": [
        "# Removing the first 100 stopwords\n",
        "lem_stopwords(data)"
      ],
      "metadata": {
        "id": "q-hdwX_XGP9c",
        "colab": {
          "base_uri": "https://localhost:8080/"
        },
        "outputId": "b1ffa08e-3b7b-4c65-bf7d-a6631546474b"
      },
      "execution_count": null,
      "outputs": [
        {
          "output_type": "stream",
          "name": "stdout",
          "text": [
            "995    [pink, sauce, ha, now, made, way, atl, , , , t...\n",
            "996    [, yarmujhenhipata, , re, all, very, spicy, , ...\n",
            "997    [kept, seeing, pink, sauce, meme, didn, , t, r...\n",
            "998    [, haleyvemealone, throw, some, pink, sauce, ,...\n",
            "999                   [, bonerhitler, pink, sauce, gtfo]\n",
            "Name: tokens_no_sw, dtype: object\n"
          ]
        },
        {
          "output_type": "stream",
          "name": "stderr",
          "text": [
            "[nltk_data] Downloading package stopwords to /root/nltk_data...\n",
            "[nltk_data]   Package stopwords is already up-to-date!\n"
          ]
        }
      ]
    },
    {
      "cell_type": "code",
      "source": [
        "# Dropping intermediate columns\n",
        "lem_drop(data)"
      ],
      "metadata": {
        "id": "5Lrn1MLGGWfb",
        "colab": {
          "base_uri": "https://localhost:8080/"
        },
        "outputId": "dc9e06e4-1708-44b2-fbd0-3d3d2336e740"
      },
      "execution_count": null,
      "outputs": [
        {
          "output_type": "stream",
          "name": "stdout",
          "text": [
            "After removal:\n",
            " ['OriginalTweet', 'Sentiment', 'tokens_no_sw']\n",
            "0    [s, pink, s, popular, potentially, illegal, pi...\n",
            "1    [keep, hearing, pink, sauce, lady, tiktok, mad...\n",
            "2                     [og, pink, sauce, tcopkywhf8fyk]\n",
            "3    [blame, youth, where, think, burger, pink, sau...\n",
            "4    [condiment, so, bizarre, ha, term, condition, ...\n",
            "Name: tokens, dtype: object\n",
            "Current Columns:\n",
            " ['OriginalTweet', 'Sentiment', 'tokens']\n"
          ]
        }
      ]
    },
    {
      "cell_type": "code",
      "source": [
        "from sklearn.feature_extraction.text import TfidfTransformer # used in next cell\n",
        "from sklearn.feature_extraction.text import CountVectorizer\n",
        "from sklearn.model_selection import train_test_split\n",
        "\n",
        "#### Vectorizing data (Lemmatized) ####\n",
        "\n",
        "# Separate labels from features, converting to numpy arrays\n",
        "X, y = data['tokens'].to_numpy(), data['Sentiment'].to_numpy()\n",
        "\n",
        "\n",
        "def override_fcn(doc):\n",
        "  # We expect a list of tokens as input\n",
        "  return doc\n",
        "\n",
        "# Count Vectorizer\n",
        "count_vec = CountVectorizer(\n",
        "    analyzer='word',\n",
        "    tokenizer= override_fcn,\n",
        "    preprocessor= override_fcn,\n",
        "    token_pattern= None,\n",
        "    max_features = 1000)\n",
        "\n",
        "counts = count_vec.fit_transform(X)\n",
        "print(counts.toarray().shape)\n",
        "\n",
        "X = counts.toarray()"
      ],
      "metadata": {
        "id": "jfxCgyClT4fl",
        "colab": {
          "base_uri": "https://localhost:8080/"
        },
        "outputId": "fec40ec4-ca79-42ea-eca8-9f668666c143"
      },
      "execution_count": null,
      "outputs": [
        {
          "output_type": "stream",
          "name": "stdout",
          "text": [
            "(1000, 1000)\n"
          ]
        }
      ]
    },
    {
      "cell_type": "code",
      "source": [
        "#### TF-IDF Vectorize ####\n",
        "\n",
        "# Note that smoothing is done by default\n",
        "tfidf = TfidfTransformer()\n",
        "\n",
        "tfs = tfidf.fit_transform(counts)\n",
        "\n",
        "print(tfs.toarray())\n",
        "\n",
        "# Let's use the TFIDF counts for modelling\n",
        "X = tfs.toarray()\n",
        "\n",
        "# Split the data into training and test sets\n",
        "X_train, X_test, y_train, y_test = train_test_split(X, y, test_size = 0.2, random_state = 42)"
      ],
      "metadata": {
        "id": "9CfaPDBtUScP",
        "colab": {
          "base_uri": "https://localhost:8080/"
        },
        "outputId": "f09e0a0a-229e-4c10-c18a-d86a2d36bf68"
      },
      "execution_count": null,
      "outputs": [
        {
          "output_type": "stream",
          "name": "stdout",
          "text": [
            "[[0. 0. 0. ... 0. 0. 0.]\n",
            " [0. 0. 0. ... 0. 0. 0.]\n",
            " [0. 0. 0. ... 0. 0. 0.]\n",
            " ...\n",
            " [0. 0. 0. ... 0. 0. 0.]\n",
            " [0. 0. 0. ... 0. 0. 0.]\n",
            " [0. 0. 0. ... 0. 0. 0.]]\n"
          ]
        }
      ]
    },
    {
      "cell_type": "code",
      "source": [
        "# Calculating train accuracy to check for overfitting/underfitting\n",
        "\n",
        "nb = MultinomialNB()\n",
        "# Fit model to training data\n",
        "nb.fit(X_train, y_train)\n",
        "# Predict on train data\n",
        "y_preds = nb.predict(X_train)\n",
        "\n",
        "print('Train accuracy with simple Naive Bayes:',accuracy_score(y_train,y_preds))"
      ],
      "metadata": {
        "id": "huP8E9266qMs",
        "colab": {
          "base_uri": "https://localhost:8080/"
        },
        "outputId": "8eee7051-5a99-4818-8d51-299c14b4a76b"
      },
      "execution_count": null,
      "outputs": [
        {
          "output_type": "stream",
          "name": "stdout",
          "text": [
            "Train accuracy with simple Naive Bayes: 0.69375\n"
          ]
        }
      ]
    },
    {
      "cell_type": "code",
      "source": [
        "# Let's fit the Naive Bayes model to our testing data\n",
        "nb = MultinomialNB()\n",
        "# Fit model to training data\n",
        "nb.fit(X_train, y_train)\n",
        "# Predict on test data\n",
        "y_preds = nb.predict(X_test)\n",
        "\n",
        "print('Test accuracy with simple Naive Bayes:',accuracy_score(y_test,y_preds))"
      ],
      "metadata": {
        "id": "eUFnGaScUXGd",
        "colab": {
          "base_uri": "https://localhost:8080/"
        },
        "outputId": "7a5be70d-a2d0-4c74-a925-92e7fdd99be6"
      },
      "execution_count": null,
      "outputs": [
        {
          "output_type": "stream",
          "name": "stdout",
          "text": [
            "Test accuracy with simple Naive Bayes: 0.615\n"
          ]
        }
      ]
    },
    {
      "cell_type": "code",
      "source": [
        "# Naive Bayes Metrics\n",
        "from sklearn import metrics\n",
        "\n",
        "print(metrics.classification_report(y_test, y_preds, zero_division=0))"
      ],
      "metadata": {
        "id": "9YjTrzMkFsny",
        "colab": {
          "base_uri": "https://localhost:8080/"
        },
        "outputId": "547e33dd-7e43-4dea-9b1d-71d9c6d5b2d0"
      },
      "execution_count": null,
      "outputs": [
        {
          "output_type": "stream",
          "name": "stdout",
          "text": [
            "              precision    recall  f1-score   support\n",
            "\n",
            "           0       0.90      0.18      0.31        49\n",
            "           1       0.59      1.00      0.74       103\n",
            "           2       0.79      0.23      0.35        48\n",
            "\n",
            "    accuracy                           0.61       200\n",
            "   macro avg       0.76      0.47      0.47       200\n",
            "weighted avg       0.71      0.61      0.54       200\n",
            "\n"
          ]
        }
      ]
    },
    {
      "cell_type": "code",
      "source": [
        "# Running Baseline model\n",
        "from sklearn.dummy import DummyClassifier\n",
        "dc = DummyClassifier()\n",
        "# Fit model to training data\n",
        "dc.fit(X_train, y_train)\n",
        "# Predict on test data\n",
        "y_preds = dc.predict(X_test)\n",
        "\n",
        "print('Test accuracy with DummyClassifier:',accuracy_score(y_test,y_preds))"
      ],
      "metadata": {
        "id": "6jLDyAjFlXA2",
        "colab": {
          "base_uri": "https://localhost:8080/"
        },
        "outputId": "714bdf7a-e017-4866-e9a7-21effc7495db"
      },
      "execution_count": null,
      "outputs": [
        {
          "output_type": "stream",
          "name": "stdout",
          "text": [
            "Test accuracy with DummyClassifier: 0.515\n"
          ]
        }
      ]
    },
    {
      "cell_type": "code",
      "source": [
        "# Baseline Metrics\n",
        "from sklearn import metrics\n",
        "\n",
        "print(metrics.classification_report(y_test, y_preds, zero_division=0))"
      ],
      "metadata": {
        "id": "PoxtXnFV82El",
        "colab": {
          "base_uri": "https://localhost:8080/"
        },
        "outputId": "20230a4f-6d76-437d-d984-57cbf5cc2904"
      },
      "execution_count": null,
      "outputs": [
        {
          "output_type": "stream",
          "name": "stdout",
          "text": [
            "              precision    recall  f1-score   support\n",
            "\n",
            "           0       0.00      0.00      0.00        49\n",
            "           1       0.52      1.00      0.68       103\n",
            "           2       0.00      0.00      0.00        48\n",
            "\n",
            "    accuracy                           0.52       200\n",
            "   macro avg       0.17      0.33      0.23       200\n",
            "weighted avg       0.27      0.52      0.35       200\n",
            "\n"
          ]
        }
      ]
    }
  ]
}
